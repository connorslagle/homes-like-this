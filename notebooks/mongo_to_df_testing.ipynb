{
 "cells": [
  {
   "cell_type": "code",
   "execution_count": 73,
   "metadata": {},
   "outputs": [],
   "source": [
    "import pymongo\n",
    "import numpy as np\n",
    "import pandas as pd\n",
    "import pprint\n",
    "from bson.objectid import ObjectId\n",
    "import matplotlib.pyplot as plt\n",
    "plt.style.use('ggplot')\n",
    "plt.rcParams.update({'font.size': 18})\n",
    "\n",
    "# Make sure mongo docker running\n",
    "# init mongo connection\n",
    "conn = pymongo.MongoClient('localhost', 27017)\n",
    "db = conn['listings']"
   ]
  },
  {
   "cell_type": "code",
   "execution_count": 74,
   "metadata": {},
   "outputs": [
    {
     "data": {
      "text/plain": [
       "['search_metadata', 'listing_metadata']"
      ]
     },
     "execution_count": 74,
     "metadata": {},
     "output_type": "execute_result"
    }
   ],
   "source": [
    "# show collections\n",
    "db.list_collection_names()"
   ]
  },
  {
   "cell_type": "code",
   "execution_count": 105,
   "metadata": {},
   "outputs": [
    {
     "data": {
      "text/plain": [
       "dict_keys(['_id', 'listing_id', 'listing_href', 'search_url', 'prop_type', 'price', 'beds', 'baths', 'sqft', 'lotsqft'])"
      ]
     },
     "execution_count": 105,
     "metadata": {},
     "output_type": "execute_result"
    }
   ],
   "source": [
    "# Messy, lets put into df\n",
    "searches = db.search_metadata\n",
    "first_entry = searches.find({})[2]\n",
    "first_entry.keys()"
   ]
  },
  {
   "cell_type": "code",
   "execution_count": null,
   "metadata": {},
   "outputs": [],
   "source": []
  },
  {
   "cell_type": "code",
   "execution_count": 97,
   "metadata": {},
   "outputs": [
    {
     "data": {
      "text/plain": [
       "dict_keys(['listing_id', 'listing_href', 'search_url', 'prop_type', 'price', 'beds', 'baths', 'sqft', 'lotsqft'])"
      ]
     },
     "execution_count": 97,
     "metadata": {},
     "output_type": "execute_result"
    }
   ],
   "source": [
    "first_entry.pop('_id')\n",
    "first_entry.keys()"
   ]
  },
  {
   "cell_type": "code",
   "execution_count": 98,
   "metadata": {},
   "outputs": [
    {
     "name": "stdout",
     "output_type": "stream",
     "text": [
      "[43, 43, 1, 43, 43, 43, 43, 43, 38]\n",
      "[43, 43, 43, 43, 43, 43, 43]\n"
     ]
    }
   ],
   "source": [
    "# Check len of all lists\n",
    "field_lengths = [len(v) for v in first_entry.values()]\n",
    "print(field_lengths)\n",
    "\n",
    "# going to use listing_id for length, drop search_url, and lotsqft (missing data caused skips)\n",
    "try:\n",
    "    first_entry.pop('search_url')\n",
    "    first_entry.pop('lotsqft')\n",
    "except:\n",
    "    pass\n",
    "# Check len of all lists\n",
    "field_lengths = [len(v) for v in first_entry.values()]\n",
    "print(field_lengths)\n",
    "\n"
   ]
  },
  {
   "cell_type": "code",
   "execution_count": 78,
   "metadata": {},
   "outputs": [
    {
     "data": {
      "text/plain": [
       "['/realestateandhomes-detail/19624-E-58th-Dr_Aurora_CO_80019_M24819-29611',\n",
       " '/realestateandhomes-detail/6366-N-Espana-St_Aurora_CO_80019_M24235-36080',\n",
       " '/realestateandhomes-detail/3754-S-Granby-Way_Aurora_CO_80014_M15196-24141',\n",
       " '/realestateandhomes-detail/2464-S-Elkhart-St_Aurora_CO_80014_M20381-77285',\n",
       " '/realestateandhomes-detail/1205-S-Uvalda-St_Aurora_CO_80012_M16835-56778',\n",
       " '/realestateandhomes-detail/19018-E-Cornell-Ave_Aurora_CO_80013_M21958-33041',\n",
       " '/realestateandhomes-detail/4970-S-Duquesne-St_Aurora_CO_80016_M16335-85472',\n",
       " '/realestateandhomes-detail/5745-Genoa-Way-Apt-205_Aurora_CO_80019_M13833-26998',\n",
       " '/realestateandhomes-detail/1804-S-Sedalia-Cir_Aurora_CO_80017_M22835-10357',\n",
       " '/realestateandhomes-detail/21773-E-Kenyon-Pl_Aurora_CO_80018_M29873-34695',\n",
       " '/realestateandhomes-detail/131-S-Nome-St_Aurora_CO_80012_M11984-94068',\n",
       " '/realestateandhomes-detail/4856-S-Argonne-St_Aurora_CO_80015_M27176-08022',\n",
       " '/realestateandhomes-detail/13999-E-Chenango-Dr_Aurora_CO_80015_M12079-32501',\n",
       " '/realestateandhomes-detail/1926-Jamaica-St_Aurora_CO_80010_M14147-60408',\n",
       " '/realestateandhomes-detail/2675-S-Danube-Way-Unit-103_Aurora_CO_80013_M12071-20843',\n",
       " '/realestateandhomes-detail/7847-S-Buchanan-Way_Aurora_CO_80016_M18408-92058',\n",
       " '/realestateandhomes-detail/17833-E-Loyola-Ave_Aurora_CO_80013_M24300-05222',\n",
       " '/realestateandhomes-detail/1301-S-Cathay-Ct-Apt-203_Aurora_CO_80017_M21752-06357',\n",
       " '/realestateandhomes-detail/21435-E-Greenwood-Pl_Aurora_CO_80013_M27166-67080',\n",
       " '/realestateandhomes-detail/25463-E-5th-Ave_Aurora_CO_80018_M27876-22566',\n",
       " '/realestateandhomes-detail/3105-S-Killarney-Way_Aurora_CO_80013_M26497-00181',\n",
       " '/realestateandhomes-detail/21165-E-Eastman-Ave_Aurora_CO_80013_M26341-13571',\n",
       " '/realestateandhomes-detail/22391-E-Plymouth-Cir_Aurora_CO_80016_M25791-51197',\n",
       " '/realestateandhomes-detail/23602-E-Briarwood-Dr_Aurora_CO_80016_M22348-45009',\n",
       " '/realestateandhomes-detail/19903-E-Dartmouth-Ave_Aurora_CO_80013_M26106-59842',\n",
       " '/realestateandhomes-detail/2239-S-Toledo-Ct_Aurora_CO_80014_M17535-04952',\n",
       " '/realestateandhomes-detail/480-Troy-St_Aurora_CO_80011_M15518-45363',\n",
       " '/realestateandhomes-detail/3854-S-Dayton-Way-Unit-207_Aurora_CO_80014_M19569-09680',\n",
       " '/realestateandhomes-detail/17631-E-Harvard-Pl_Aurora_CO_80013_M18415-43799',\n",
       " '/realestateandhomes-detail/4173-S-Naples-Way_Aurora_CO_80013_M26351-73831',\n",
       " '/realestateandhomes-detail/13609-E-Cornell-Ave-Apt-409_Aurora_CO_80014_M13500-28762',\n",
       " '/realestateandhomes-detail/26962-E-1st-Ave_Aurora_CO_80018_M98162-51730',\n",
       " '/realestateandhomes-detail/26922-E-1st-Ave_Aurora_CO_80018_M93632-23045',\n",
       " '/realestateandhomes-detail/241-Quari-St_Aurora_CO_80011_M23563-73498',\n",
       " '/realestateandhomes-detail/2195-S-Joliet-St_Aurora_CO_80014_M20522-31773',\n",
       " '/realestateandhomes-detail/27982-E-1st-Ave_Aurora_CO_80018_M99126-40685',\n",
       " '/realestateandhomes-detail/24033-E-Euclid-Ave_Aurora_CO_80016_M22150-69021',\n",
       " '/realestateandhomes-detail/7598-S-Country-Club-Pkwy_Aurora_CO_80016_M15280-41841',\n",
       " '/realestateandhomes-detail/24030-E-Tansy-Dr_Aurora_CO_80016_M15127-66991',\n",
       " '/realestateandhomes-detail/7952-S-Halleyville-Way_Aurora_CO_80016_M14972-76220',\n",
       " '/realestateandhomes-detail/27002-E-1st-Ave_Aurora_CO_80018_M96620-98747',\n",
       " '/realestateandhomes-detail/27625-E-Geddes-Pl_Aurora_CO_80016_M98372-81700',\n",
       " '/realestateandhomes-detail/27850-E-Otero-Pl_Aurora_CO_80016_M26342-12680']"
      ]
     },
     "execution_count": 78,
     "metadata": {},
     "output_type": "execute_result"
    }
   ],
   "source": [
    "# turn the above into a function\n",
    "first_entry['listing_href']"
   ]
  },
  {
   "cell_type": "code",
   "execution_count": 37,
   "metadata": {},
   "outputs": [
    {
     "data": {
      "text/plain": [
       "dict_keys(['listing_id', 'listing_href', 'search_url', 'prop_type', 'price', 'beds', 'baths', 'sqft', 'lotsqft'])"
      ]
     },
     "execution_count": 37,
     "metadata": {},
     "output_type": "execute_result"
    }
   ],
   "source": [
    "# second entry\n",
    "next_entry = searches.find({})[6]\n",
    "next_entry.pop('_id')\n",
    "next_entry.keys()\n"
   ]
  },
  {
   "cell_type": "code",
   "execution_count": 38,
   "metadata": {},
   "outputs": [
    {
     "data": {
      "text/plain": [
       "[43, 43, 1, 43, 43, 43, 43, 43, 36]"
      ]
     },
     "execution_count": 38,
     "metadata": {},
     "output_type": "execute_result"
    }
   ],
   "source": [
    "field_lengths = [len(v) for v in next_entry.values()]\n",
    "field_lengths"
   ]
  },
  {
   "cell_type": "code",
   "execution_count": 70,
   "metadata": {},
   "outputs": [
    {
     "data": {
      "text/plain": [
       "43"
      ]
     },
     "execution_count": 70,
     "metadata": {},
     "output_type": "execute_result"
    }
   ],
   "source": [
    "len(next_entry['price'])\n"
   ]
  },
  {
   "cell_type": "code",
   "execution_count": 48,
   "metadata": {},
   "outputs": [
    {
     "name": "stdout",
     "output_type": "stream",
     "text": [
      "0.3\n"
     ]
    },
    {
     "data": {
      "text/plain": [
       "'/realestateandhomes-detail/1221-S-Balsam-Ct_Lakewood_CO_80232_M17228-40553'"
      ]
     },
     "execution_count": 48,
     "metadata": {},
     "output_type": "execute_result"
    }
   ],
   "source": [
    "# turn the above into a function\n",
    "print(next_entry['lotsqft'][34])\n",
    "next_entry['listing_href'][34]"
   ]
  },
  {
   "cell_type": "code",
   "execution_count": null,
   "metadata": {},
   "outputs": [],
   "source": [
    "# try dict comp -----> nvm, going to try pandas method\n",
    "from pandas import json_normalize\n",
    "test = json_normalize(first_entry, record_path='listing_id')\n",
    "test"
   ]
  },
  {
   "cell_type": "code",
   "execution_count": null,
   "metadata": {},
   "outputs": [],
   "source": [
    "test_schema = pd.io.json.build_table_schema(test)\n",
    "test_schema"
   ]
  },
  {
   "cell_type": "code",
   "execution_count": 103,
   "metadata": {},
   "outputs": [
    {
     "data": {
      "text/plain": [
       "{'_id': ObjectId('5ebc02b9d0e3034d610f324c'),\n",
       " 'listing_id': ['Aurora_CO_2_0',\n",
       "  'Aurora_CO_2_1',\n",
       "  'Aurora_CO_2_2',\n",
       "  'Aurora_CO_2_3',\n",
       "  'Aurora_CO_2_4',\n",
       "  'Aurora_CO_2_5',\n",
       "  'Aurora_CO_2_6',\n",
       "  'Aurora_CO_2_7',\n",
       "  'Aurora_CO_2_8',\n",
       "  'Aurora_CO_2_9',\n",
       "  'Aurora_CO_2_10',\n",
       "  'Aurora_CO_2_11',\n",
       "  'Aurora_CO_2_12',\n",
       "  'Aurora_CO_2_13',\n",
       "  'Aurora_CO_2_14',\n",
       "  'Aurora_CO_2_15',\n",
       "  'Aurora_CO_2_16',\n",
       "  'Aurora_CO_2_17',\n",
       "  'Aurora_CO_2_18',\n",
       "  'Aurora_CO_2_19',\n",
       "  'Aurora_CO_2_20',\n",
       "  'Aurora_CO_2_21',\n",
       "  'Aurora_CO_2_22',\n",
       "  'Aurora_CO_2_23',\n",
       "  'Aurora_CO_2_24',\n",
       "  'Aurora_CO_2_25',\n",
       "  'Aurora_CO_2_26',\n",
       "  'Aurora_CO_2_27',\n",
       "  'Aurora_CO_2_28',\n",
       "  'Aurora_CO_2_29',\n",
       "  'Aurora_CO_2_30',\n",
       "  'Aurora_CO_2_31',\n",
       "  'Aurora_CO_2_32',\n",
       "  'Aurora_CO_2_33',\n",
       "  'Aurora_CO_2_34',\n",
       "  'Aurora_CO_2_35',\n",
       "  'Aurora_CO_2_36',\n",
       "  'Aurora_CO_2_37',\n",
       "  'Aurora_CO_2_38',\n",
       "  'Aurora_CO_2_39',\n",
       "  'Aurora_CO_2_40',\n",
       "  'Aurora_CO_2_41',\n",
       "  'Aurora_CO_2_42'],\n",
       " 'listing_href': ['/realestateandhomes-detail/19624-E-58th-Dr_Aurora_CO_80019_M24819-29611',\n",
       "  '/realestateandhomes-detail/6366-N-Espana-St_Aurora_CO_80019_M24235-36080',\n",
       "  '/realestateandhomes-detail/3754-S-Granby-Way_Aurora_CO_80014_M15196-24141',\n",
       "  '/realestateandhomes-detail/2464-S-Elkhart-St_Aurora_CO_80014_M20381-77285',\n",
       "  '/realestateandhomes-detail/1205-S-Uvalda-St_Aurora_CO_80012_M16835-56778',\n",
       "  '/realestateandhomes-detail/19018-E-Cornell-Ave_Aurora_CO_80013_M21958-33041',\n",
       "  '/realestateandhomes-detail/4970-S-Duquesne-St_Aurora_CO_80016_M16335-85472',\n",
       "  '/realestateandhomes-detail/5745-Genoa-Way-Apt-205_Aurora_CO_80019_M13833-26998',\n",
       "  '/realestateandhomes-detail/1804-S-Sedalia-Cir_Aurora_CO_80017_M22835-10357',\n",
       "  '/realestateandhomes-detail/21773-E-Kenyon-Pl_Aurora_CO_80018_M29873-34695',\n",
       "  '/realestateandhomes-detail/131-S-Nome-St_Aurora_CO_80012_M11984-94068',\n",
       "  '/realestateandhomes-detail/4856-S-Argonne-St_Aurora_CO_80015_M27176-08022',\n",
       "  '/realestateandhomes-detail/13999-E-Chenango-Dr_Aurora_CO_80015_M12079-32501',\n",
       "  '/realestateandhomes-detail/1926-Jamaica-St_Aurora_CO_80010_M14147-60408',\n",
       "  '/realestateandhomes-detail/2675-S-Danube-Way-Unit-103_Aurora_CO_80013_M12071-20843',\n",
       "  '/realestateandhomes-detail/7847-S-Buchanan-Way_Aurora_CO_80016_M18408-92058',\n",
       "  '/realestateandhomes-detail/17833-E-Loyola-Ave_Aurora_CO_80013_M24300-05222',\n",
       "  '/realestateandhomes-detail/1301-S-Cathay-Ct-Apt-203_Aurora_CO_80017_M21752-06357',\n",
       "  '/realestateandhomes-detail/21435-E-Greenwood-Pl_Aurora_CO_80013_M27166-67080',\n",
       "  '/realestateandhomes-detail/25463-E-5th-Ave_Aurora_CO_80018_M27876-22566',\n",
       "  '/realestateandhomes-detail/3105-S-Killarney-Way_Aurora_CO_80013_M26497-00181',\n",
       "  '/realestateandhomes-detail/21165-E-Eastman-Ave_Aurora_CO_80013_M26341-13571',\n",
       "  '/realestateandhomes-detail/22391-E-Plymouth-Cir_Aurora_CO_80016_M25791-51197',\n",
       "  '/realestateandhomes-detail/23602-E-Briarwood-Dr_Aurora_CO_80016_M22348-45009',\n",
       "  '/realestateandhomes-detail/19903-E-Dartmouth-Ave_Aurora_CO_80013_M26106-59842',\n",
       "  '/realestateandhomes-detail/2239-S-Toledo-Ct_Aurora_CO_80014_M17535-04952',\n",
       "  '/realestateandhomes-detail/480-Troy-St_Aurora_CO_80011_M15518-45363',\n",
       "  '/realestateandhomes-detail/3854-S-Dayton-Way-Unit-207_Aurora_CO_80014_M19569-09680',\n",
       "  '/realestateandhomes-detail/17631-E-Harvard-Pl_Aurora_CO_80013_M18415-43799',\n",
       "  '/realestateandhomes-detail/4173-S-Naples-Way_Aurora_CO_80013_M26351-73831',\n",
       "  '/realestateandhomes-detail/13609-E-Cornell-Ave-Apt-409_Aurora_CO_80014_M13500-28762',\n",
       "  '/realestateandhomes-detail/26962-E-1st-Ave_Aurora_CO_80018_M98162-51730',\n",
       "  '/realestateandhomes-detail/26922-E-1st-Ave_Aurora_CO_80018_M93632-23045',\n",
       "  '/realestateandhomes-detail/241-Quari-St_Aurora_CO_80011_M23563-73498',\n",
       "  '/realestateandhomes-detail/2195-S-Joliet-St_Aurora_CO_80014_M20522-31773',\n",
       "  '/realestateandhomes-detail/27982-E-1st-Ave_Aurora_CO_80018_M99126-40685',\n",
       "  '/realestateandhomes-detail/24033-E-Euclid-Ave_Aurora_CO_80016_M22150-69021',\n",
       "  '/realestateandhomes-detail/7598-S-Country-Club-Pkwy_Aurora_CO_80016_M15280-41841',\n",
       "  '/realestateandhomes-detail/24030-E-Tansy-Dr_Aurora_CO_80016_M15127-66991',\n",
       "  '/realestateandhomes-detail/7952-S-Halleyville-Way_Aurora_CO_80016_M14972-76220',\n",
       "  '/realestateandhomes-detail/27002-E-1st-Ave_Aurora_CO_80018_M96620-98747',\n",
       "  '/realestateandhomes-detail/27625-E-Geddes-Pl_Aurora_CO_80016_M98372-81700',\n",
       "  '/realestateandhomes-detail/27850-E-Otero-Pl_Aurora_CO_80016_M26342-12680'],\n",
       " 'search_url': ['https://www.realtor.com/realestateandhomes-search/Aurora_CO/pg-2'],\n",
       " 'prop_type': ['House for Sale',\n",
       "  'House for Sale',\n",
       "  'Multi-Family Home',\n",
       "  'House for Sale',\n",
       "  'Listing for Sale',\n",
       "  'House for Sale',\n",
       "  'House for Sale',\n",
       "  'Listing for Sale',\n",
       "  'House for Sale',\n",
       "  'House for Sale',\n",
       "  'Listing for Sale',\n",
       "  'House for Sale',\n",
       "  'Multi-Family Home',\n",
       "  'House for Sale',\n",
       "  'Listing for Sale',\n",
       "  'Multi-Family Home',\n",
       "  'House for Sale',\n",
       "  'Listing for Sale',\n",
       "  'House for Sale',\n",
       "  'House for Sale',\n",
       "  'House for Sale',\n",
       "  'House for Sale',\n",
       "  'House for Sale',\n",
       "  'House for Sale',\n",
       "  'House for Sale',\n",
       "  'Multi-Family Home',\n",
       "  'House for Sale',\n",
       "  'Listing for Sale',\n",
       "  'House for Sale',\n",
       "  'House for Sale',\n",
       "  'Listing for Sale',\n",
       "  'House for Sale',\n",
       "  'House for Sale',\n",
       "  'Multi-Family Home',\n",
       "  'House for Sale',\n",
       "  'House for Sale',\n",
       "  'House for Sale',\n",
       "  'House for Sale',\n",
       "  'House for Sale',\n",
       "  'House for Sale',\n",
       "  'House for Sale',\n",
       "  'House for Sale',\n",
       "  'House for Sale'],\n",
       " 'price': ['$350,000',\n",
       "  '$424,700',\n",
       "  '$280,000',\n",
       "  '$410,000',\n",
       "  '$269,000',\n",
       "  '$390,000',\n",
       "  '$480,000',\n",
       "  '$212,000',\n",
       "  '$320,000',\n",
       "  '$415,000',\n",
       "  '$185,000',\n",
       "  '$419,000',\n",
       "  '$525,000',\n",
       "  '$330,000',\n",
       "  '$190,000',\n",
       "  '$435,000',\n",
       "  '$439,000',\n",
       "  '$210,000',\n",
       "  '$500,000',\n",
       "  '$520,000',\n",
       "  '$455,000',\n",
       "  '$602,500',\n",
       "  '$469,555',\n",
       "  '$649,900',\n",
       "  '$355,000',\n",
       "  '$375,000',\n",
       "  '$384,900',\n",
       "  '$320,000',\n",
       "  '$445,000',\n",
       "  '$420,000',\n",
       "  '$375,000',\n",
       "  '$390,990',\n",
       "  '$375,990',\n",
       "  '$314,900',\n",
       "  '$690,000',\n",
       "  '$406,990',\n",
       "  '$619,950',\n",
       "  '$740,000',\n",
       "  '$749,999',\n",
       "  '$680,000',\n",
       "  '$421,990',\n",
       "  '$577,342',\n",
       "  '$549,900'],\n",
       " 'beds': ['3',\n",
       "  '2',\n",
       "  '4',\n",
       "  '4',\n",
       "  '3',\n",
       "  '3',\n",
       "  '6',\n",
       "  '1',\n",
       "  '3',\n",
       "  '5',\n",
       "  '1',\n",
       "  '3',\n",
       "  '3',\n",
       "  '4',\n",
       "  '1',\n",
       "  '2',\n",
       "  '4',\n",
       "  '1',\n",
       "  '4',\n",
       "  '5',\n",
       "  '4',\n",
       "  '5',\n",
       "  '3',\n",
       "  '3',\n",
       "  '3',\n",
       "  '2',\n",
       "  '6',\n",
       "  '2',\n",
       "  '4',\n",
       "  '4',\n",
       "  '3',\n",
       "  '3',\n",
       "  '3',\n",
       "  '3',\n",
       "  '5',\n",
       "  '3',\n",
       "  '3',\n",
       "  '5',\n",
       "  '5',\n",
       "  '5',\n",
       "  '4',\n",
       "  '3',\n",
       "  '4'],\n",
       " 'baths': ['1,406',\n",
       "  '2.5',\n",
       "  '2.5',\n",
       "  '3.5',\n",
       "  '2.5',\n",
       "  '2.5',\n",
       "  '3',\n",
       "  '1',\n",
       "  '1',\n",
       "  '3.5',\n",
       "  '1',\n",
       "  '2.5',\n",
       "  '2.5',\n",
       "  '2',\n",
       "  '1',\n",
       "  '2.5',\n",
       "  '3.5',\n",
       "  '2',\n",
       "  '3',\n",
       "  '4.5',\n",
       "  '3.5',\n",
       "  '4',\n",
       "  '2.5',\n",
       "  '2.5',\n",
       "  '2',\n",
       "  '3.5',\n",
       "  '3',\n",
       "  '2',\n",
       "  '3.5',\n",
       "  '3',\n",
       "  '3',\n",
       "  '2',\n",
       "  '2',\n",
       "  '2.5',\n",
       "  '4',\n",
       "  '2.5',\n",
       "  '3',\n",
       "  '4.5',\n",
       "  '3.5',\n",
       "  '4.5',\n",
       "  '2.5',\n",
       "  '2.5+',\n",
       "  '2.5+'],\n",
       " 'sqft': ['5,415',\n",
       "  '3,220',\n",
       "  '1,944',\n",
       "  '2,736',\n",
       "  '1,240',\n",
       "  '2,248',\n",
       "  '3,282',\n",
       "  '891',\n",
       "  '1,072',\n",
       "  '2,317',\n",
       "  '844',\n",
       "  '2,739',\n",
       "  '3,272',\n",
       "  '1,480',\n",
       "  '697',\n",
       "  '2,644',\n",
       "  '3,563',\n",
       "  '878',\n",
       "  '2,832',\n",
       "  '4,223',\n",
       "  '2,941',\n",
       "  '4,226',\n",
       "  '2,307',\n",
       "  '4,434',\n",
       "  '1,300',\n",
       "  '2,235',\n",
       "  '2,296',\n",
       "  '1,174',\n",
       "  '2,139',\n",
       "  '2,179',\n",
       "  '2,400',\n",
       "  '1,894',\n",
       "  '1,700',\n",
       "  '1,432',\n",
       "  '4,307',\n",
       "  '2,131',\n",
       "  '4,760',\n",
       "  '5,032',\n",
       "  '4,393',\n",
       "  '4,370',\n",
       "  '2,476',\n",
       "  '2,680',\n",
       "  '2,287'],\n",
       " 'lotsqft': ['7,369',\n",
       "  '1,307',\n",
       "  '7,100',\n",
       "  '7,100',\n",
       "  '7,562',\n",
       "  '1,803',\n",
       "  '5,968',\n",
       "  '6,098',\n",
       "  '1,002',\n",
       "  '4,879',\n",
       "  '4,356',\n",
       "  '6,350',\n",
       "  '436',\n",
       "  '6,708',\n",
       "  '5,401',\n",
       "  '436',\n",
       "  '0.52',\n",
       "  '5,450',\n",
       "  '9,148',\n",
       "  '9,148',\n",
       "  '3,485',\n",
       "  '0.52',\n",
       "  '4,748',\n",
       "  '1,263',\n",
       "  '9,583',\n",
       "  '436',\n",
       "  '0.23',\n",
       "  '5,314',\n",
       "  '5,700',\n",
       "  '5,700',\n",
       "  '1,350',\n",
       "  '7,623',\n",
       "  '5,700',\n",
       "  '7,812',\n",
       "  '9,375',\n",
       "  '9,148',\n",
       "  '6,952',\n",
       "  '5,700']}"
      ]
     },
     "execution_count": 103,
     "metadata": {},
     "output_type": "execute_result"
    }
   ],
   "source": [
    "# looking at lotsqft\n",
    "cur = searches.find({})\n",
    "test = [doc for doc in cur]\n",
    "test"
   ]
  },
  {
   "cell_type": "code",
   "execution_count": 12,
   "metadata": {},
   "outputs": [
    {
     "data": {
      "text/plain": [
       "True"
      ]
     },
     "execution_count": 12,
     "metadata": {},
     "output_type": "execute_result"
    }
   ],
   "source": [
    "0 != 1"
   ]
  },
  {
   "cell_type": "code",
   "execution_count": 116,
   "metadata": {},
   "outputs": [
    {
     "name": "stdout",
     "output_type": "stream",
     "text": [
      "{'_id': ObjectId('5ebc0a45d0e3034d610f3270'),\n",
      " 'aux_metadata': ['\\n            Active\\n          ',\n",
      "                  '$193',\n",
      "                  '12 days',\n",
      "                  'Multi-Family Home',\n",
      "                  '2005',\n",
      "                  '\\n            Multi Family\\n          '],\n",
      " 'image_id': ['Arvada_CO_2_3'],\n",
      " 'image_urls': ['https://ap.rdcpix.com/3344a0165e67830a6d6f5e31f097f28al-m3296829721xd-w1020_h770_q80.jpg',\n",
      "                'https://ap.rdcpix.com/3344a0165e67830a6d6f5e31f097f28al-m3017160526xd-w1020_h770_q80.jpg',\n",
      "                'https://ap.rdcpix.com/3344a0165e67830a6d6f5e31f097f28al-m1444627560xd-w1020_h770_q80.jpg',\n",
      "                'https://ap.rdcpix.com/3344a0165e67830a6d6f5e31f097f28al-m3722654034xd-w1020_h770_q80.jpg',\n",
      "                'https://ap.rdcpix.com/3344a0165e67830a6d6f5e31f097f28al-m2243744184xd-w1020_h770_q80.jpg',\n",
      "                'https://ap.rdcpix.com/3344a0165e67830a6d6f5e31f097f28al-m891560097xd-w1020_h770_q80.jpg',\n",
      "                'https://ap.rdcpix.com/3344a0165e67830a6d6f5e31f097f28al-m2940716956xd-w1020_h770_q80.jpg',\n",
      "                'https://ap.rdcpix.com/3344a0165e67830a6d6f5e31f097f28al-m1014902101xd-w1020_h770_q80.jpg',\n",
      "                'https://ap.rdcpix.com/3344a0165e67830a6d6f5e31f097f28al-m841652793xd-w1020_h770_q80.jpg',\n",
      "                'https://ap.rdcpix.com/3344a0165e67830a6d6f5e31f097f28al-m930115821xd-w1020_h770_q80.jpg',\n",
      "                'https://ap.rdcpix.com/3344a0165e67830a6d6f5e31f097f28al-m433874444xd-w1020_h770_q80.jpg',\n",
      "                'https://ap.rdcpix.com/3344a0165e67830a6d6f5e31f097f28al-m3782299397xd-w1020_h770_q80.jpg',\n",
      "                'https://ap.rdcpix.com/3344a0165e67830a6d6f5e31f097f28al-m1812565775xd-w1020_h770_q80.jpg',\n",
      "                'https://ap.rdcpix.com/3344a0165e67830a6d6f5e31f097f28al-m566260106xd-w1020_h770_q80.jpg',\n",
      "                'https://ap.rdcpix.com/3344a0165e67830a6d6f5e31f097f28al-m691310860xd-w1020_h770_q80.jpg',\n",
      "                'https://ap.rdcpix.com/3344a0165e67830a6d6f5e31f097f28al-m590687683xd-w1020_h770_q80.jpg',\n",
      "                'https://ap.rdcpix.com/3344a0165e67830a6d6f5e31f097f28al-m1216921092xd-w1020_h770_q80.jpg',\n",
      "                'https://ap.rdcpix.com/3344a0165e67830a6d6f5e31f097f28al-m164385937xd-w1020_h770_q80.jpg',\n",
      "                'https://ap.rdcpix.com/3344a0165e67830a6d6f5e31f097f28al-m1674940222xd-w1020_h770_q80.jpg',\n",
      "                'https://ap.rdcpix.com/3344a0165e67830a6d6f5e31f097f28al-m1924153159xd-w1020_h770_q80.jpg',\n",
      "                'https://ap.rdcpix.com/3344a0165e67830a6d6f5e31f097f28al-m1041276940xd-w1020_h770_q80.jpg',\n",
      "                'https://ap.rdcpix.com/3344a0165e67830a6d6f5e31f097f28al-m629459841xd-w1020_h770_q80.jpg',\n",
      "                'https://ap.rdcpix.com/3344a0165e67830a6d6f5e31f097f28al-m1097164960xd-w1020_h770_q80.jpg'],\n",
      " 'prop_desc': ['New carpet, recent paint, recent kitchen countertops, oven, '\n",
      "               'cooktop, microwave, refrigerator. Dishwasher, W/D 3 years '\n",
      "               'old.This beautiful townhome in the Village of Five Parks '\n",
      "               'offers a wonderful community feel, with walking access to '\n",
      "               'restaurants, a dentist, a veterinarian, an optometrist, the '\n",
      "               'community gym, swimming pool, tennis courts, public parks, and '\n",
      "               'elementary school, as well as an easy commute to Boulder, '\n",
      "               'Denver, or Golden.The main floor of the townhome features the '\n",
      "               'living area, dining, kitchen, laundry, half-bath, and access '\n",
      "               'to the garage and patio. A coat closet is near the front door. '\n",
      "               'Hardwood flooring throughout the main floor (except laundry '\n",
      "               'room).The upper floor features the master bedroom (with trayed '\n",
      "               'ceiling, 5-piece bath and walk-in closet), second bedroom '\n",
      "               '(with en suite bath), and a linen closet.The basement has a '\n",
      "               'large rec area, the third bedroom (conforming) with closet, '\n",
      "               'the third full bath, another walk-in closet, and the '\n",
      "               'utility/unfinished storage area, as well as access to the '\n",
      "               'crawl space.']}\n"
     ]
    }
   ],
   "source": [
    "# now lets look at listings\n",
    "listings = db.listing_metadata\n",
    "pprint.pprint(listings.find({})[20])\n"
   ]
  },
  {
   "cell_type": "code",
   "execution_count": 118,
   "metadata": {},
   "outputs": [],
   "source": [
    "import hashlib\n",
    "sha1 = hashlib.sha1()"
   ]
  },
  {
   "cell_type": "code",
   "execution_count": 123,
   "metadata": {},
   "outputs": [
    {
     "name": "stdout",
     "output_type": "stream",
     "text": [
      "https://ap.rdcpix.com/4096ed4b57cee2a8e3e7afdd032199eal-m3226917241xd-w1020_h770_q80.jpg\n"
     ]
    }
   ],
   "source": [
    "test = listings.find_one()\n",
    "url = test['image_urls'][0]\n",
    "print(url)\n",
    "url2 = 'https://ap.rdcpix.com/183526728a58875cd603611eff37b1b7l-m3037012545xd-w1020_h770_q80.jpg'\n"
   ]
  },
  {
   "cell_type": "code",
   "execution_count": 124,
   "metadata": {},
   "outputs": [
    {
     "data": {
      "text/plain": [
       "'24b1014e09ebe3ccd248ae3fa83a22f5c382292c'"
      ]
     },
     "execution_count": 124,
     "metadata": {},
     "output_type": "execute_result"
    }
   ],
   "source": [
    "sha1.update(url2.encode(\"utf-8\"))\n",
    "sha1_hash = sha1.hexdigest()\n",
    "sha1_hash\n"
   ]
  },
  {
   "cell_type": "code",
   "execution_count": 127,
   "metadata": {},
   "outputs": [
    {
     "data": {
      "text/plain": [
       "'7dd1b827d8fb11cc2a7cb332590dca6c056b1a7d'"
      ]
     },
     "execution_count": 127,
     "metadata": {},
     "output_type": "execute_result"
    }
   ],
   "source": [
    "url = '183526728a58875cd603611eff37b1b7l-m3037012545xd-w1020_h770_q80'\n",
    "sha1.update(url.encode(\"utf-8\"))\n",
    "sha1_hash = sha1.hexdigest()\n",
    "sha1_hash"
   ]
  },
  {
   "cell_type": "code",
   "execution_count": null,
   "metadata": {},
   "outputs": [],
   "source": []
  }
 ],
 "metadata": {
  "kernelspec": {
   "display_name": "Python 3",
   "language": "python",
   "name": "python3"
  },
  "language_info": {
   "codemirror_mode": {
    "name": "ipython",
    "version": 3
   },
   "file_extension": ".py",
   "mimetype": "text/x-python",
   "name": "python",
   "nbconvert_exporter": "python",
   "pygments_lexer": "ipython3",
   "version": "3.7.7"
  }
 },
 "nbformat": 4,
 "nbformat_minor": 4
}
