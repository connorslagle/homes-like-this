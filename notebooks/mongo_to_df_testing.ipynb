{
 "cells": [
  {
   "cell_type": "code",
   "execution_count": 73,
   "metadata": {},
   "outputs": [],
   "source": [
    "import pymongo\n",
    "import numpy as np\n",
    "import pandas as pd\n",
    "import pprint\n",
    "from bson.objectid import ObjectId\n",
    "import matplotlib.pyplot as plt\n",
    "plt.style.use('ggplot')\n",
    "plt.rcParams.update({'font.size': 18})\n",
    "\n",
    "# Make sure mongo docker running\n",
    "# init mongo connection\n",
    "conn = pymongo.MongoClient('localhost', 27017)\n",
    "db = conn['listings']"
   ]
  },
  {
   "cell_type": "code",
   "execution_count": 74,
   "metadata": {},
   "outputs": [
    {
     "data": {
      "text/plain": [
       "['search_metadata', 'listing_metadata']"
      ]
     },
     "execution_count": 74,
     "metadata": {},
     "output_type": "execute_result"
    }
   ],
   "source": [
    "# show collections\n",
    "db.list_collection_names()"
   ]
  },
  {
   "cell_type": "code",
   "execution_count": 99,
   "metadata": {},
   "outputs": [
    {
     "data": {
      "text/plain": [
       "dict_keys(['_id', 'image_id'])"
      ]
     },
     "execution_count": 99,
     "metadata": {},
     "output_type": "execute_result"
    }
   ],
   "source": [
    "# Messy, lets put into df\n",
    "searches = db.search_metadata\n",
    "first_entry = searches.find({})[1]\n",
    "first_entry.keys()"
   ]
  },
  {
   "cell_type": "code",
   "execution_count": 88,
   "metadata": {},
   "outputs": [
    {
     "name": "stderr",
     "output_type": "stream",
     "text": [
      "/home/conslag/anaconda3/lib/python3.7/site-packages/ipykernel_launcher.py:1: DeprecationWarning: count is deprecated. Use Collection.count_documents instead.\n",
      "  \"\"\"Entry point for launching an IPython kernel.\n"
     ]
    },
    {
     "data": {
      "text/plain": [
       "16"
      ]
     },
     "execution_count": 88,
     "metadata": {},
     "output_type": "execute_result"
    }
   ],
   "source": []
  },
  {
   "cell_type": "code",
   "execution_count": 97,
   "metadata": {},
   "outputs": [
    {
     "data": {
      "text/plain": [
       "dict_keys(['listing_id', 'listing_href', 'search_url', 'prop_type', 'price', 'beds', 'baths', 'sqft', 'lotsqft'])"
      ]
     },
     "execution_count": 97,
     "metadata": {},
     "output_type": "execute_result"
    }
   ],
   "source": [
    "first_entry.pop('_id')\n",
    "first_entry.keys()"
   ]
  },
  {
   "cell_type": "code",
   "execution_count": 98,
   "metadata": {},
   "outputs": [
    {
     "name": "stdout",
     "output_type": "stream",
     "text": [
      "[43, 43, 1, 43, 43, 43, 43, 43, 38]\n",
      "[43, 43, 43, 43, 43, 43, 43]\n"
     ]
    }
   ],
   "source": [
    "# Check len of all lists\n",
    "field_lengths = [len(v) for v in first_entry.values()]\n",
    "print(field_lengths)\n",
    "\n",
    "# going to use listing_id for length, drop search_url, and lotsqft (missing data caused skips)\n",
    "try:\n",
    "    first_entry.pop('search_url')\n",
    "    first_entry.pop('lotsqft')\n",
    "except:\n",
    "    pass\n",
    "# Check len of all lists\n",
    "field_lengths = [len(v) for v in first_entry.values()]\n",
    "print(field_lengths)\n",
    "\n"
   ]
  },
  {
   "cell_type": "code",
   "execution_count": 78,
   "metadata": {},
   "outputs": [
    {
     "data": {
      "text/plain": [
       "['/realestateandhomes-detail/19624-E-58th-Dr_Aurora_CO_80019_M24819-29611',\n",
       " '/realestateandhomes-detail/6366-N-Espana-St_Aurora_CO_80019_M24235-36080',\n",
       " '/realestateandhomes-detail/3754-S-Granby-Way_Aurora_CO_80014_M15196-24141',\n",
       " '/realestateandhomes-detail/2464-S-Elkhart-St_Aurora_CO_80014_M20381-77285',\n",
       " '/realestateandhomes-detail/1205-S-Uvalda-St_Aurora_CO_80012_M16835-56778',\n",
       " '/realestateandhomes-detail/19018-E-Cornell-Ave_Aurora_CO_80013_M21958-33041',\n",
       " '/realestateandhomes-detail/4970-S-Duquesne-St_Aurora_CO_80016_M16335-85472',\n",
       " '/realestateandhomes-detail/5745-Genoa-Way-Apt-205_Aurora_CO_80019_M13833-26998',\n",
       " '/realestateandhomes-detail/1804-S-Sedalia-Cir_Aurora_CO_80017_M22835-10357',\n",
       " '/realestateandhomes-detail/21773-E-Kenyon-Pl_Aurora_CO_80018_M29873-34695',\n",
       " '/realestateandhomes-detail/131-S-Nome-St_Aurora_CO_80012_M11984-94068',\n",
       " '/realestateandhomes-detail/4856-S-Argonne-St_Aurora_CO_80015_M27176-08022',\n",
       " '/realestateandhomes-detail/13999-E-Chenango-Dr_Aurora_CO_80015_M12079-32501',\n",
       " '/realestateandhomes-detail/1926-Jamaica-St_Aurora_CO_80010_M14147-60408',\n",
       " '/realestateandhomes-detail/2675-S-Danube-Way-Unit-103_Aurora_CO_80013_M12071-20843',\n",
       " '/realestateandhomes-detail/7847-S-Buchanan-Way_Aurora_CO_80016_M18408-92058',\n",
       " '/realestateandhomes-detail/17833-E-Loyola-Ave_Aurora_CO_80013_M24300-05222',\n",
       " '/realestateandhomes-detail/1301-S-Cathay-Ct-Apt-203_Aurora_CO_80017_M21752-06357',\n",
       " '/realestateandhomes-detail/21435-E-Greenwood-Pl_Aurora_CO_80013_M27166-67080',\n",
       " '/realestateandhomes-detail/25463-E-5th-Ave_Aurora_CO_80018_M27876-22566',\n",
       " '/realestateandhomes-detail/3105-S-Killarney-Way_Aurora_CO_80013_M26497-00181',\n",
       " '/realestateandhomes-detail/21165-E-Eastman-Ave_Aurora_CO_80013_M26341-13571',\n",
       " '/realestateandhomes-detail/22391-E-Plymouth-Cir_Aurora_CO_80016_M25791-51197',\n",
       " '/realestateandhomes-detail/23602-E-Briarwood-Dr_Aurora_CO_80016_M22348-45009',\n",
       " '/realestateandhomes-detail/19903-E-Dartmouth-Ave_Aurora_CO_80013_M26106-59842',\n",
       " '/realestateandhomes-detail/2239-S-Toledo-Ct_Aurora_CO_80014_M17535-04952',\n",
       " '/realestateandhomes-detail/480-Troy-St_Aurora_CO_80011_M15518-45363',\n",
       " '/realestateandhomes-detail/3854-S-Dayton-Way-Unit-207_Aurora_CO_80014_M19569-09680',\n",
       " '/realestateandhomes-detail/17631-E-Harvard-Pl_Aurora_CO_80013_M18415-43799',\n",
       " '/realestateandhomes-detail/4173-S-Naples-Way_Aurora_CO_80013_M26351-73831',\n",
       " '/realestateandhomes-detail/13609-E-Cornell-Ave-Apt-409_Aurora_CO_80014_M13500-28762',\n",
       " '/realestateandhomes-detail/26962-E-1st-Ave_Aurora_CO_80018_M98162-51730',\n",
       " '/realestateandhomes-detail/26922-E-1st-Ave_Aurora_CO_80018_M93632-23045',\n",
       " '/realestateandhomes-detail/241-Quari-St_Aurora_CO_80011_M23563-73498',\n",
       " '/realestateandhomes-detail/2195-S-Joliet-St_Aurora_CO_80014_M20522-31773',\n",
       " '/realestateandhomes-detail/27982-E-1st-Ave_Aurora_CO_80018_M99126-40685',\n",
       " '/realestateandhomes-detail/24033-E-Euclid-Ave_Aurora_CO_80016_M22150-69021',\n",
       " '/realestateandhomes-detail/7598-S-Country-Club-Pkwy_Aurora_CO_80016_M15280-41841',\n",
       " '/realestateandhomes-detail/24030-E-Tansy-Dr_Aurora_CO_80016_M15127-66991',\n",
       " '/realestateandhomes-detail/7952-S-Halleyville-Way_Aurora_CO_80016_M14972-76220',\n",
       " '/realestateandhomes-detail/27002-E-1st-Ave_Aurora_CO_80018_M96620-98747',\n",
       " '/realestateandhomes-detail/27625-E-Geddes-Pl_Aurora_CO_80016_M98372-81700',\n",
       " '/realestateandhomes-detail/27850-E-Otero-Pl_Aurora_CO_80016_M26342-12680']"
      ]
     },
     "execution_count": 78,
     "metadata": {},
     "output_type": "execute_result"
    }
   ],
   "source": [
    "# turn the above into a function\n",
    "first_entry['listing_href']"
   ]
  },
  {
   "cell_type": "code",
   "execution_count": 37,
   "metadata": {},
   "outputs": [
    {
     "data": {
      "text/plain": [
       "dict_keys(['listing_id', 'listing_href', 'search_url', 'prop_type', 'price', 'beds', 'baths', 'sqft', 'lotsqft'])"
      ]
     },
     "execution_count": 37,
     "metadata": {},
     "output_type": "execute_result"
    }
   ],
   "source": [
    "# second entry\n",
    "next_entry = searches.find({})[6]\n",
    "next_entry.pop('_id')\n",
    "next_entry.keys()\n"
   ]
  },
  {
   "cell_type": "code",
   "execution_count": 38,
   "metadata": {},
   "outputs": [
    {
     "data": {
      "text/plain": [
       "[43, 43, 1, 43, 43, 43, 43, 43, 36]"
      ]
     },
     "execution_count": 38,
     "metadata": {},
     "output_type": "execute_result"
    }
   ],
   "source": [
    "field_lengths = [len(v) for v in next_entry.values()]\n",
    "field_lengths"
   ]
  },
  {
   "cell_type": "code",
   "execution_count": 70,
   "metadata": {},
   "outputs": [
    {
     "data": {
      "text/plain": [
       "43"
      ]
     },
     "execution_count": 70,
     "metadata": {},
     "output_type": "execute_result"
    }
   ],
   "source": [
    "len(next_entry['price'])\n"
   ]
  },
  {
   "cell_type": "code",
   "execution_count": 48,
   "metadata": {},
   "outputs": [
    {
     "name": "stdout",
     "output_type": "stream",
     "text": [
      "0.3\n"
     ]
    },
    {
     "data": {
      "text/plain": [
       "'/realestateandhomes-detail/1221-S-Balsam-Ct_Lakewood_CO_80232_M17228-40553'"
      ]
     },
     "execution_count": 48,
     "metadata": {},
     "output_type": "execute_result"
    }
   ],
   "source": [
    "# turn the above into a function\n",
    "print(next_entry['lotsqft'][34])\n",
    "next_entry['listing_href'][34]"
   ]
  },
  {
   "cell_type": "code",
   "execution_count": null,
   "metadata": {},
   "outputs": [],
   "source": [
    "# try dict comp -----> nvm, going to try pandas method\n",
    "from pandas import json_normalize\n",
    "test = json_normalize(first_entry, record_path='listing_id')\n",
    "test"
   ]
  },
  {
   "cell_type": "code",
   "execution_count": null,
   "metadata": {},
   "outputs": [],
   "source": [
    "test_schema = pd.io.json.build_table_schema(test)\n",
    "test_schema"
   ]
  },
  {
   "cell_type": "code",
   "execution_count": 23,
   "metadata": {},
   "outputs": [
    {
     "data": {
      "text/plain": [
       "['0.24',\n",
       " '8,219',\n",
       " '6,818',\n",
       " '3,805',\n",
       " '6,068',\n",
       " '6,269',\n",
       " '3,225',\n",
       " '5,226',\n",
       " '5,228',\n",
       " '1,133',\n",
       " '7,500',\n",
       " '6,250',\n",
       " '3,039',\n",
       " '1,568',\n",
       " '4,559',\n",
       " '8,920',\n",
       " '7,149',\n",
       " '9,345',\n",
       " '0.25',\n",
       " '8,838',\n",
       " '8,900',\n",
       " '1.9',\n",
       " '6,050',\n",
       " '7,033',\n",
       " '4,530',\n",
       " '0.32',\n",
       " '4,700',\n",
       " '0.24',\n",
       " '7,708',\n",
       " '0.24',\n",
       " '6,181',\n",
       " '7,326',\n",
       " '0.25',\n",
       " '8,400',\n",
       " '7,236',\n",
       " '1,970',\n",
       " '7,236',\n",
       " '9,427',\n",
       " '6,450',\n",
       " '1,163']"
      ]
     },
     "execution_count": 23,
     "metadata": {},
     "output_type": "execute_result"
    }
   ],
   "source": [
    "# looking at lotsqft\n",
    "first_entry['lotsqft']"
   ]
  },
  {
   "cell_type": "code",
   "execution_count": 12,
   "metadata": {},
   "outputs": [
    {
     "data": {
      "text/plain": [
       "True"
      ]
     },
     "execution_count": 12,
     "metadata": {},
     "output_type": "execute_result"
    }
   ],
   "source": [
    "0 != 1"
   ]
  },
  {
   "cell_type": "code",
   "execution_count": 16,
   "metadata": {},
   "outputs": [
    {
     "name": "stdout",
     "output_type": "stream",
     "text": [
      "{'_id': ObjectId('5ebaf31767c76afd12bf0492'),\n",
      " 'aux_metadata': ['\\n            Active\\n          ',\n",
      "                  '$136',\n",
      "                  '2 days',\n",
      "                  'Single Family Home',\n",
      "                  '1971',\n",
      "                  '\\n            Single Family Residence\\n          '],\n",
      " 'image_id': ['Aurora_CO_1_0'],\n",
      " 'image_urls': ['https://ap.rdcpix.com/00a1da3fac0ef6f47485831222224e77l-m1584912509xd-w1020_h770_q80.jpg',\n",
      "                'https://ap.rdcpix.com/00a1da3fac0ef6f47485831222224e77l-m4068262134xd-w1020_h770_q80.jpg',\n",
      "                'https://ap.rdcpix.com/00a1da3fac0ef6f47485831222224e77l-m1497723963xd-w1020_h770_q80.jpg',\n",
      "                'https://ap.rdcpix.com/00a1da3fac0ef6f47485831222224e77l-m3236924590xd-w1020_h770_q80.jpg',\n",
      "                'https://ap.rdcpix.com/00a1da3fac0ef6f47485831222224e77l-m2863384775xd-w1020_h770_q80.jpg',\n",
      "                'https://ap.rdcpix.com/00a1da3fac0ef6f47485831222224e77l-m1112848795xd-w1020_h770_q80.jpg',\n",
      "                'https://ap.rdcpix.com/00a1da3fac0ef6f47485831222224e77l-m2401708386xd-w1020_h770_q80.jpg',\n",
      "                'https://ap.rdcpix.com/00a1da3fac0ef6f47485831222224e77l-m5829425xd-w1020_h770_q80.jpg',\n",
      "                'https://ap.rdcpix.com/00a1da3fac0ef6f47485831222224e77l-m1731799291xd-w1020_h770_q80.jpg',\n",
      "                'https://ap.rdcpix.com/00a1da3fac0ef6f47485831222224e77l-m1780562302xd-w1020_h770_q80.jpg',\n",
      "                'https://ap.rdcpix.com/00a1da3fac0ef6f47485831222224e77l-m695948972xd-w1020_h770_q80.jpg',\n",
      "                'https://ap.rdcpix.com/00a1da3fac0ef6f47485831222224e77l-m1196624201xd-w1020_h770_q80.jpg',\n",
      "                'https://ap.rdcpix.com/00a1da3fac0ef6f47485831222224e77l-m690365598xd-w1020_h770_q80.jpg',\n",
      "                'https://ap.rdcpix.com/00a1da3fac0ef6f47485831222224e77l-m2554894610xd-w1020_h770_q80.jpg',\n",
      "                'https://ap.rdcpix.com/00a1da3fac0ef6f47485831222224e77l-m1758662887xd-w1020_h770_q80.jpg',\n",
      "                'https://ap.rdcpix.com/00a1da3fac0ef6f47485831222224e77l-m2663514572xd-w1020_h770_q80.jpg',\n",
      "                'https://ap.rdcpix.com/00a1da3fac0ef6f47485831222224e77l-m3635605175xd-w1020_h770_q80.jpg',\n",
      "                'https://ap.rdcpix.com/00a1da3fac0ef6f47485831222224e77l-m1023935062xd-w1020_h770_q80.jpg',\n",
      "                'https://ap.rdcpix.com/00a1da3fac0ef6f47485831222224e77l-m2873310522xd-w1020_h770_q80.jpg',\n",
      "                'https://ap.rdcpix.com/00a1da3fac0ef6f47485831222224e77l-m159795292xd-w1020_h770_q80.jpg',\n",
      "                'https://ap.rdcpix.com/00a1da3fac0ef6f47485831222224e77l-m517985510xd-w1020_h770_q80.jpg',\n",
      "                'https://ap.rdcpix.com/00a1da3fac0ef6f47485831222224e77l-m3526692877xd-w1020_h770_q80.jpg']}\n"
     ]
    }
   ],
   "source": [
    "# now lets look at listings\n",
    "listings = db.listing_metadata\n",
    "pprint.pprint(listings.find_one())\n"
   ]
  },
  {
   "cell_type": "code",
   "execution_count": 25,
   "metadata": {},
   "outputs": [
    {
     "data": {
      "text/plain": [
       "21"
      ]
     },
     "execution_count": 25,
     "metadata": {},
     "output_type": "execute_result"
    }
   ],
   "source": [
    "# see how many listings we scraped so far\n",
    "listings.count_documents({})"
   ]
  },
  {
   "cell_type": "code",
   "execution_count": null,
   "metadata": {},
   "outputs": [],
   "source": []
  }
 ],
 "metadata": {
  "kernelspec": {
   "display_name": "Python 3",
   "language": "python",
   "name": "python3"
  },
  "language_info": {
   "codemirror_mode": {
    "name": "ipython",
    "version": 3
   },
   "file_extension": ".py",
   "mimetype": "text/x-python",
   "name": "python",
   "nbconvert_exporter": "python",
   "pygments_lexer": "ipython3",
   "version": "3.7.7"
  }
 },
 "nbformat": 4,
 "nbformat_minor": 4
}
