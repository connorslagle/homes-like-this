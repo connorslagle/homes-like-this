{
 "cells": [
  {
   "cell_type": "code",
   "execution_count": 13,
   "metadata": {},
   "outputs": [],
   "source": [
    "import pymongo\n",
    "import numpy as np\n",
    "import pandas as pd\n",
    "import pprint\n",
    "from bson.objectid import ObjectId\n",
    "import matplotlib.pyplot as plt\n",
    "plt.style.use('ggplot')\n",
    "plt.rcParams.update({'font.size': 18})\n",
    "\n",
    "# Make sure mongo docker running\n",
    "# init mongo connection\n",
    "conn = pymongo.MongoClient('localhost', 27017)\n",
    "db = conn['listings']"
   ]
  },
  {
   "cell_type": "code",
   "execution_count": 14,
   "metadata": {},
   "outputs": [
    {
     "data": {
      "text/plain": [
       "['listing_metadata', 'search_metadata']"
      ]
     },
     "execution_count": 14,
     "metadata": {},
     "output_type": "execute_result"
    }
   ],
   "source": [
    "# show collections\n",
    "db.list_collection_names()"
   ]
  },
  {
   "cell_type": "code",
   "execution_count": 61,
   "metadata": {},
   "outputs": [
    {
     "data": {
      "text/plain": [
       "dict_keys(['_id', 'listing_id', 'listing_href', 'search_url', 'prop_type', 'price', 'beds', 'baths', 'sqft', 'lotsqft'])"
      ]
     },
     "execution_count": 61,
     "metadata": {},
     "output_type": "execute_result"
    }
   ],
   "source": [
    "# Messy, lets put into df\n",
    "searches = db.search_metadata\n",
    "first_entry = searches.find({})[10]\n",
    "first_entry.keys()"
   ]
  },
  {
   "cell_type": "code",
   "execution_count": 62,
   "metadata": {},
   "outputs": [
    {
     "data": {
      "text/plain": [
       "dict_keys(['listing_id', 'listing_href', 'search_url', 'prop_type', 'price', 'beds', 'baths', 'sqft', 'lotsqft'])"
      ]
     },
     "execution_count": 62,
     "metadata": {},
     "output_type": "execute_result"
    }
   ],
   "source": [
    "first_entry.pop('_id')\n",
    "first_entry.keys()"
   ]
  },
  {
   "cell_type": "code",
   "execution_count": 71,
   "metadata": {},
   "outputs": [
    {
     "data": {
      "text/plain": [
       "[43, 43, 1, 43, 46, 43, 43, 43, 39]"
      ]
     },
     "execution_count": 71,
     "metadata": {},
     "output_type": "execute_result"
    }
   ],
   "source": [
    "# Check len of all lists\n",
    "field_lengths = [len(v) for v in first_entry.values()]\n",
    "field_lengths\n",
    "\n",
    "# going to use listing_id for length, drop search_url, and lotsqft (missing data caused skips)\n",
    "\n"
   ]
  },
  {
   "cell_type": "code",
   "execution_count": 72,
   "metadata": {},
   "outputs": [
    {
     "data": {
      "text/plain": [
       "['$120,000',\n",
       " '$391,000',\n",
       " '$445,000',\n",
       " '$164,950',\n",
       " '$2,890,000',\n",
       " '$330,000',\n",
       " '$625,000',\n",
       " '$299,000',\n",
       " '$220,000',\n",
       " '$225,000',\n",
       " '$359,900',\n",
       " '$279,900',\n",
       " '$750,000',\n",
       " '$290,000',\n",
       " '$339,900',\n",
       " '$750,000',\n",
       " '$379,900',\n",
       " '$215,000',\n",
       " '$369,900',\n",
       " '$485,000',\n",
       " '$1,100,000',\n",
       " '$345,000',\n",
       " '$425,000',\n",
       " '$599,000',\n",
       " '$390,000',\n",
       " '$875,000',\n",
       " '$560,000',\n",
       " '$384,900',\n",
       " '$400,000',\n",
       " '$550,000',\n",
       " '$625,000',\n",
       " '$674,900',\n",
       " '$234,800',\n",
       " '$649,000',\n",
       " '$500,000',\n",
       " '$419,900',\n",
       " '$1,285,000',\n",
       " '$416,875',\n",
       " '$369,900',\n",
       " '$739,000',\n",
       " 'From ',\n",
       " '$521,990',\n",
       " 'From ',\n",
       " '$604,990',\n",
       " 'From ',\n",
       " '$624,990']"
      ]
     },
     "execution_count": 72,
     "metadata": {},
     "output_type": "execute_result"
    }
   ],
   "source": [
    "# turn the above into a function\n",
    "first_entry['price']"
   ]
  },
  {
   "cell_type": "code",
   "execution_count": 37,
   "metadata": {},
   "outputs": [
    {
     "data": {
      "text/plain": [
       "dict_keys(['listing_id', 'listing_href', 'search_url', 'prop_type', 'price', 'beds', 'baths', 'sqft', 'lotsqft'])"
      ]
     },
     "execution_count": 37,
     "metadata": {},
     "output_type": "execute_result"
    }
   ],
   "source": [
    "# second entry\n",
    "next_entry = searches.find({})[6]\n",
    "next_entry.pop('_id')\n",
    "next_entry.keys()\n"
   ]
  },
  {
   "cell_type": "code",
   "execution_count": 38,
   "metadata": {},
   "outputs": [
    {
     "data": {
      "text/plain": [
       "[43, 43, 1, 43, 43, 43, 43, 43, 36]"
      ]
     },
     "execution_count": 38,
     "metadata": {},
     "output_type": "execute_result"
    }
   ],
   "source": [
    "field_lengths = [len(v) for v in next_entry.values()]\n",
    "field_lengths"
   ]
  },
  {
   "cell_type": "code",
   "execution_count": 70,
   "metadata": {},
   "outputs": [
    {
     "data": {
      "text/plain": [
       "43"
      ]
     },
     "execution_count": 70,
     "metadata": {},
     "output_type": "execute_result"
    }
   ],
   "source": [
    "len(next_entry['price'])\n"
   ]
  },
  {
   "cell_type": "code",
   "execution_count": 48,
   "metadata": {},
   "outputs": [
    {
     "name": "stdout",
     "output_type": "stream",
     "text": [
      "0.3\n"
     ]
    },
    {
     "data": {
      "text/plain": [
       "'/realestateandhomes-detail/1221-S-Balsam-Ct_Lakewood_CO_80232_M17228-40553'"
      ]
     },
     "execution_count": 48,
     "metadata": {},
     "output_type": "execute_result"
    }
   ],
   "source": [
    "# turn the above into a function\n",
    "print(next_entry['lotsqft'][34])\n",
    "next_entry['listing_href'][34]"
   ]
  },
  {
   "cell_type": "code",
   "execution_count": null,
   "metadata": {},
   "outputs": [],
   "source": [
    "# try dict comp -----> nvm, going to try pandas method\n",
    "from pandas import json_normalize\n",
    "test = json_normalize(first_entry, record_path='listing_id')\n",
    "test"
   ]
  },
  {
   "cell_type": "code",
   "execution_count": null,
   "metadata": {},
   "outputs": [],
   "source": [
    "test_schema = pd.io.json.build_table_schema(test)\n",
    "test_schema"
   ]
  },
  {
   "cell_type": "code",
   "execution_count": 23,
   "metadata": {},
   "outputs": [
    {
     "data": {
      "text/plain": [
       "['0.24',\n",
       " '8,219',\n",
       " '6,818',\n",
       " '3,805',\n",
       " '6,068',\n",
       " '6,269',\n",
       " '3,225',\n",
       " '5,226',\n",
       " '5,228',\n",
       " '1,133',\n",
       " '7,500',\n",
       " '6,250',\n",
       " '3,039',\n",
       " '1,568',\n",
       " '4,559',\n",
       " '8,920',\n",
       " '7,149',\n",
       " '9,345',\n",
       " '0.25',\n",
       " '8,838',\n",
       " '8,900',\n",
       " '1.9',\n",
       " '6,050',\n",
       " '7,033',\n",
       " '4,530',\n",
       " '0.32',\n",
       " '4,700',\n",
       " '0.24',\n",
       " '7,708',\n",
       " '0.24',\n",
       " '6,181',\n",
       " '7,326',\n",
       " '0.25',\n",
       " '8,400',\n",
       " '7,236',\n",
       " '1,970',\n",
       " '7,236',\n",
       " '9,427',\n",
       " '6,450',\n",
       " '1,163']"
      ]
     },
     "execution_count": 23,
     "metadata": {},
     "output_type": "execute_result"
    }
   ],
   "source": [
    "# looking at lotsqft\n",
    "first_entry['lotsqft']"
   ]
  },
  {
   "cell_type": "code",
   "execution_count": 12,
   "metadata": {},
   "outputs": [
    {
     "data": {
      "text/plain": [
       "True"
      ]
     },
     "execution_count": 12,
     "metadata": {},
     "output_type": "execute_result"
    }
   ],
   "source": [
    "0 != 1"
   ]
  },
  {
   "cell_type": "code",
   "execution_count": 16,
   "metadata": {},
   "outputs": [
    {
     "name": "stdout",
     "output_type": "stream",
     "text": [
      "{'_id': ObjectId('5ebaf31767c76afd12bf0492'),\n",
      " 'aux_metadata': ['\\n            Active\\n          ',\n",
      "                  '$136',\n",
      "                  '2 days',\n",
      "                  'Single Family Home',\n",
      "                  '1971',\n",
      "                  '\\n            Single Family Residence\\n          '],\n",
      " 'image_id': ['Aurora_CO_1_0'],\n",
      " 'image_urls': ['https://ap.rdcpix.com/00a1da3fac0ef6f47485831222224e77l-m1584912509xd-w1020_h770_q80.jpg',\n",
      "                'https://ap.rdcpix.com/00a1da3fac0ef6f47485831222224e77l-m4068262134xd-w1020_h770_q80.jpg',\n",
      "                'https://ap.rdcpix.com/00a1da3fac0ef6f47485831222224e77l-m1497723963xd-w1020_h770_q80.jpg',\n",
      "                'https://ap.rdcpix.com/00a1da3fac0ef6f47485831222224e77l-m3236924590xd-w1020_h770_q80.jpg',\n",
      "                'https://ap.rdcpix.com/00a1da3fac0ef6f47485831222224e77l-m2863384775xd-w1020_h770_q80.jpg',\n",
      "                'https://ap.rdcpix.com/00a1da3fac0ef6f47485831222224e77l-m1112848795xd-w1020_h770_q80.jpg',\n",
      "                'https://ap.rdcpix.com/00a1da3fac0ef6f47485831222224e77l-m2401708386xd-w1020_h770_q80.jpg',\n",
      "                'https://ap.rdcpix.com/00a1da3fac0ef6f47485831222224e77l-m5829425xd-w1020_h770_q80.jpg',\n",
      "                'https://ap.rdcpix.com/00a1da3fac0ef6f47485831222224e77l-m1731799291xd-w1020_h770_q80.jpg',\n",
      "                'https://ap.rdcpix.com/00a1da3fac0ef6f47485831222224e77l-m1780562302xd-w1020_h770_q80.jpg',\n",
      "                'https://ap.rdcpix.com/00a1da3fac0ef6f47485831222224e77l-m695948972xd-w1020_h770_q80.jpg',\n",
      "                'https://ap.rdcpix.com/00a1da3fac0ef6f47485831222224e77l-m1196624201xd-w1020_h770_q80.jpg',\n",
      "                'https://ap.rdcpix.com/00a1da3fac0ef6f47485831222224e77l-m690365598xd-w1020_h770_q80.jpg',\n",
      "                'https://ap.rdcpix.com/00a1da3fac0ef6f47485831222224e77l-m2554894610xd-w1020_h770_q80.jpg',\n",
      "                'https://ap.rdcpix.com/00a1da3fac0ef6f47485831222224e77l-m1758662887xd-w1020_h770_q80.jpg',\n",
      "                'https://ap.rdcpix.com/00a1da3fac0ef6f47485831222224e77l-m2663514572xd-w1020_h770_q80.jpg',\n",
      "                'https://ap.rdcpix.com/00a1da3fac0ef6f47485831222224e77l-m3635605175xd-w1020_h770_q80.jpg',\n",
      "                'https://ap.rdcpix.com/00a1da3fac0ef6f47485831222224e77l-m1023935062xd-w1020_h770_q80.jpg',\n",
      "                'https://ap.rdcpix.com/00a1da3fac0ef6f47485831222224e77l-m2873310522xd-w1020_h770_q80.jpg',\n",
      "                'https://ap.rdcpix.com/00a1da3fac0ef6f47485831222224e77l-m159795292xd-w1020_h770_q80.jpg',\n",
      "                'https://ap.rdcpix.com/00a1da3fac0ef6f47485831222224e77l-m517985510xd-w1020_h770_q80.jpg',\n",
      "                'https://ap.rdcpix.com/00a1da3fac0ef6f47485831222224e77l-m3526692877xd-w1020_h770_q80.jpg']}\n"
     ]
    }
   ],
   "source": [
    "# now lets look at listings\n",
    "listings = db.listing_metadata\n",
    "pprint.pprint(listings.find_one())\n"
   ]
  },
  {
   "cell_type": "code",
   "execution_count": 25,
   "metadata": {},
   "outputs": [
    {
     "data": {
      "text/plain": [
       "21"
      ]
     },
     "execution_count": 25,
     "metadata": {},
     "output_type": "execute_result"
    }
   ],
   "source": [
    "# see how many listings we scraped so far\n",
    "listings.count_documents({})"
   ]
  },
  {
   "cell_type": "code",
   "execution_count": null,
   "metadata": {},
   "outputs": [],
   "source": []
  }
 ],
 "metadata": {
  "kernelspec": {
   "display_name": "Python 3",
   "language": "python",
   "name": "python3"
  },
  "language_info": {
   "codemirror_mode": {
    "name": "ipython",
    "version": 3
   },
   "file_extension": ".py",
   "mimetype": "text/x-python",
   "name": "python",
   "nbconvert_exporter": "python",
   "pygments_lexer": "ipython3",
   "version": "3.7.7"
  }
 },
 "nbformat": 4,
 "nbformat_minor": 4
}
