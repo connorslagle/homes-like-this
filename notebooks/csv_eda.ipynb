{
 "cells": [
  {
   "cell_type": "code",
   "execution_count": 17,
   "metadata": {},
   "outputs": [],
   "source": [
    "import numpy as np\n",
    "import pandas as pd\n",
    "import matplotlib.pyplot as plt\n",
    "plt.style.use('fivethirtyeight')\n",
    "plt.rcParams.update({'font.size':18})\n"
   ]
  },
  {
   "cell_type": "code",
   "execution_count": 19,
   "metadata": {},
   "outputs": [
    {
     "data": {
      "text/html": [
       "<div>\n",
       "<style scoped>\n",
       "    .dataframe tbody tr th:only-of-type {\n",
       "        vertical-align: middle;\n",
       "    }\n",
       "\n",
       "    .dataframe tbody tr th {\n",
       "        vertical-align: top;\n",
       "    }\n",
       "\n",
       "    .dataframe thead th {\n",
       "        text-align: right;\n",
       "    }\n",
       "</style>\n",
       "<table border=\"1\" class=\"dataframe\">\n",
       "  <thead>\n",
       "    <tr style=\"text-align: right;\">\n",
       "      <th></th>\n",
       "      <th>Unnamed: 0</th>\n",
       "      <th>listing_id</th>\n",
       "      <th>image_file</th>\n",
       "      <th>prop_type</th>\n",
       "      <th>listing_price</th>\n",
       "      <th>beds</th>\n",
       "      <th>baths</th>\n",
       "      <th>sqft</th>\n",
       "      <th>address</th>\n",
       "      <th>city</th>\n",
       "      <th>state</th>\n",
       "      <th>zipcode</th>\n",
       "    </tr>\n",
       "  </thead>\n",
       "  <tbody>\n",
       "    <tr>\n",
       "      <th>0</th>\n",
       "      <td>0</td>\n",
       "      <td>Aurora_CO_1_0</td>\n",
       "      <td>ffaa50edd5566d5dcfe0b1d132ad079cl-m1108769346x...</td>\n",
       "      <td>House for Sale</td>\n",
       "      <td>$265,000</td>\n",
       "      <td>3</td>\n",
       "      <td>1</td>\n",
       "      <td>854</td>\n",
       "      <td>4614-S-Buckley-Way</td>\n",
       "      <td>Aurora</td>\n",
       "      <td>CO</td>\n",
       "      <td>80015</td>\n",
       "    </tr>\n",
       "    <tr>\n",
       "      <th>1</th>\n",
       "      <td>1</td>\n",
       "      <td>Aurora_CO_1_0</td>\n",
       "      <td>ffaa50edd5566d5dcfe0b1d132ad079cl-m867679501xd...</td>\n",
       "      <td>House for Sale</td>\n",
       "      <td>$265,000</td>\n",
       "      <td>3</td>\n",
       "      <td>1</td>\n",
       "      <td>854</td>\n",
       "      <td>4614-S-Buckley-Way</td>\n",
       "      <td>Aurora</td>\n",
       "      <td>CO</td>\n",
       "      <td>80015</td>\n",
       "    </tr>\n",
       "    <tr>\n",
       "      <th>2</th>\n",
       "      <td>2</td>\n",
       "      <td>Aurora_CO_1_0</td>\n",
       "      <td>ffaa50edd5566d5dcfe0b1d132ad079cl-m2412943192x...</td>\n",
       "      <td>House for Sale</td>\n",
       "      <td>$265,000</td>\n",
       "      <td>3</td>\n",
       "      <td>1</td>\n",
       "      <td>854</td>\n",
       "      <td>4614-S-Buckley-Way</td>\n",
       "      <td>Aurora</td>\n",
       "      <td>CO</td>\n",
       "      <td>80015</td>\n",
       "    </tr>\n",
       "    <tr>\n",
       "      <th>3</th>\n",
       "      <td>3</td>\n",
       "      <td>Aurora_CO_1_0</td>\n",
       "      <td>ffaa50edd5566d5dcfe0b1d132ad079cl-m2841480592x...</td>\n",
       "      <td>House for Sale</td>\n",
       "      <td>$265,000</td>\n",
       "      <td>3</td>\n",
       "      <td>1</td>\n",
       "      <td>854</td>\n",
       "      <td>4614-S-Buckley-Way</td>\n",
       "      <td>Aurora</td>\n",
       "      <td>CO</td>\n",
       "      <td>80015</td>\n",
       "    </tr>\n",
       "    <tr>\n",
       "      <th>4</th>\n",
       "      <td>4</td>\n",
       "      <td>Aurora_CO_1_0</td>\n",
       "      <td>ffaa50edd5566d5dcfe0b1d132ad079cl-m758422910xd...</td>\n",
       "      <td>House for Sale</td>\n",
       "      <td>$265,000</td>\n",
       "      <td>3</td>\n",
       "      <td>1</td>\n",
       "      <td>854</td>\n",
       "      <td>4614-S-Buckley-Way</td>\n",
       "      <td>Aurora</td>\n",
       "      <td>CO</td>\n",
       "      <td>80015</td>\n",
       "    </tr>\n",
       "  </tbody>\n",
       "</table>\n",
       "</div>"
      ],
      "text/plain": [
       "   Unnamed: 0     listing_id  \\\n",
       "0           0  Aurora_CO_1_0   \n",
       "1           1  Aurora_CO_1_0   \n",
       "2           2  Aurora_CO_1_0   \n",
       "3           3  Aurora_CO_1_0   \n",
       "4           4  Aurora_CO_1_0   \n",
       "\n",
       "                                          image_file       prop_type  \\\n",
       "0  ffaa50edd5566d5dcfe0b1d132ad079cl-m1108769346x...  House for Sale   \n",
       "1  ffaa50edd5566d5dcfe0b1d132ad079cl-m867679501xd...  House for Sale   \n",
       "2  ffaa50edd5566d5dcfe0b1d132ad079cl-m2412943192x...  House for Sale   \n",
       "3  ffaa50edd5566d5dcfe0b1d132ad079cl-m2841480592x...  House for Sale   \n",
       "4  ffaa50edd5566d5dcfe0b1d132ad079cl-m758422910xd...  House for Sale   \n",
       "\n",
       "  listing_price beds baths sqft             address    city state  zipcode  \n",
       "0      $265,000    3     1  854  4614-S-Buckley-Way  Aurora    CO    80015  \n",
       "1      $265,000    3     1  854  4614-S-Buckley-Way  Aurora    CO    80015  \n",
       "2      $265,000    3     1  854  4614-S-Buckley-Way  Aurora    CO    80015  \n",
       "3      $265,000    3     1  854  4614-S-Buckley-Way  Aurora    CO    80015  \n",
       "4      $265,000    3     1  854  4614-S-Buckley-Way  Aurora    CO    80015  "
      ]
     },
     "execution_count": 19,
     "metadata": {},
     "output_type": "execute_result"
    }
   ],
   "source": [
    "df = pd.read_csv('../data/metadata/2020-05-14_pg1_3_all.csv')\n",
    "df.head()"
   ]
  },
  {
   "cell_type": "code",
   "execution_count": 20,
   "metadata": {},
   "outputs": [
    {
     "name": "stdout",
     "output_type": "stream",
     "text": [
      "<class 'pandas.core.frame.DataFrame'>\n",
      "RangeIndex: 4751 entries, 0 to 4750\n",
      "Data columns (total 12 columns):\n",
      " #   Column         Non-Null Count  Dtype \n",
      "---  ------         --------------  ----- \n",
      " 0   Unnamed: 0     4751 non-null   int64 \n",
      " 1   listing_id     4751 non-null   object\n",
      " 2   image_file     4751 non-null   object\n",
      " 3   prop_type      4751 non-null   object\n",
      " 4   listing_price  4751 non-null   object\n",
      " 5   beds           4751 non-null   object\n",
      " 6   baths          4751 non-null   object\n",
      " 7   sqft           4751 non-null   object\n",
      " 8   address        4751 non-null   object\n",
      " 9   city           4751 non-null   object\n",
      " 10  state          4751 non-null   object\n",
      " 11  zipcode        4751 non-null   int64 \n",
      "dtypes: int64(2), object(10)\n",
      "memory usage: 445.5+ KB\n"
     ]
    }
   ],
   "source": [
    "df.info()"
   ]
  },
  {
   "cell_type": "code",
   "execution_count": 21,
   "metadata": {},
   "outputs": [
    {
     "data": {
      "text/plain": [
       "city\n",
       "Arvada          726\n",
       "Aurora          666\n",
       "Broomfield       45\n",
       "Centennial      571\n",
       "Denver         1148\n",
       "Englewood        33\n",
       "Lakewood        634\n",
       "Littleton        40\n",
       "Thornton        441\n",
       "Westminster     447\n",
       "Name: image_file, dtype: int64"
      ]
     },
     "execution_count": 21,
     "metadata": {},
     "output_type": "execute_result"
    }
   ],
   "source": [
    "count_by_city = df.groupby('city').count()['image_file']\n",
    "count_by_city\n",
    "\n"
   ]
  },
  {
   "cell_type": "code",
   "execution_count": 22,
   "metadata": {},
   "outputs": [
    {
     "data": {
      "text/plain": [
       "[Text(0, 0, 'Denver'),\n",
       " Text(0, 0, 'Arvada'),\n",
       " Text(0, 0, 'Aurora'),\n",
       " Text(0, 0, 'Lakewood'),\n",
       " Text(0, 0, 'Centennial'),\n",
       " Text(0, 0, 'Westminster'),\n",
       " Text(0, 0, 'Thornton'),\n",
       " Text(0, 0, 'Broomfield'),\n",
       " Text(0, 0, 'Littleton'),\n",
       " Text(0, 0, 'Englewood')]"
      ]
     },
     "execution_count": 22,
     "metadata": {},
     "output_type": "execute_result"
    },
    {
     "data": {
      "image/png": "[encoded data removed]",
      "text/plain": [
       "<Figure size 864x720 with 1 Axes>"
      ]
     },
     "metadata": {},
     "output_type": "display_data"
    }
   ],
   "source": [
    "# dist of collected listings\n",
    "desc_idx = np.argsort(count_by_city.values)\n",
    "desc_y = count_by_city.values[desc_idx][::-1]\n",
    "desc_x = count_by_city.index[desc_idx][::-1]\n",
    "\n",
    "\n",
    "fig, ax = plt.subplots(1,figsize=(12,10))\n",
    "ax.bar(desc_x, desc_y)\n",
    "ax.set_xticklabels(desc_x, rotation=45, ha='right')"
   ]
  },
  {
   "cell_type": "code",
   "execution_count": 10,
   "metadata": {},
   "outputs": [
    {
     "data": {
      "text/plain": [
       "array([ 33,  40,  45, 293, 310, 312, 348, 388, 412, 610])"
      ]
     },
     "execution_count": 10,
     "metadata": {},
     "output_type": "execute_result"
    }
   ],
   "source": [
    "\n"
   ]
  },
  {
   "cell_type": "code",
   "execution_count": null,
   "metadata": {},
   "outputs": [],
   "source": []
  }
 ],
 "metadata": {
  "kernelspec": {
   "display_name": "Python 3",
   "language": "python",
   "name": "python3"
  },
  "language_info": {
   "codemirror_mode": {
    "name": "ipython",
    "version": 3
   },
   "file_extension": ".py",
   "mimetype": "text/x-python",
   "name": "python",
   "nbconvert_exporter": "python",
   "pygments_lexer": "ipython3",
   "version": "3.7.7"
  }
 },
 "nbformat": 4,
 "nbformat_minor": 4
}
