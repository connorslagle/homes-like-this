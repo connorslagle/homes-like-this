{
 "cells": [
  {
   "cell_type": "code",
   "execution_count": 18,
   "metadata": {},
   "outputs": [],
   "source": [
    "from bs4 import BeautifulSoup\n",
    "import requests\n",
    "import scrapy"
   ]
  },
  {
   "cell_type": "code",
   "execution_count": 26,
   "metadata": {},
   "outputs": [],
   "source": [
    "# try realtor.com\n",
    "live_url = 'https://www.realtor.com/realestateandhomes-search/Aurora_CO/pg-1'\n",
    "# response = requests.get('../spider/realestatescraper/realtor_test_Aurora_CO.html')\n",
    "soup = BeautifulSoup(open('../spider/realestatescraper/realtor_test_Aurora_CO.html','r'), 'html.parser')"
   ]
  },
  {
   "cell_type": "code",
   "execution_count": 27,
   "metadata": {},
   "outputs": [],
   "source": [
    "test = soup.body"
   ]
  },
  {
   "cell_type": "code",
   "execution_count": 41,
   "metadata": {},
   "outputs": [
    {
     "data": {
      "text/plain": [
       "<li class=\"jsx-3446352583 component_property-card\" data-property-id=\"1336762087\" id=\"item_1336762087\"><div class=\"jsx-3446352583\" id=\"property_1336762087\"><div class=\"jsx-4044968377 pre-card-wrap\"><div class=\"jsx-4044968377 broker-info\"><div class=\"jsx-4044968377 ellipsis\"><span class=\"jsx-4044968377\">Brokered by </span><span class=\"jsx-4044968377\" data-label=\"pc-brokered\">Mb Lunnon Rlty Corp</span></div></div></div><div class=\"jsx-527056098 card-box type-srp-result\" data-id=\"1336762087\" data-label=\"property-card\" data-testid=\"property-card\"><div class=\"jsx-527056098 photo-wrap\" id=\"1336762087\"><a href=\"/realestateandhomes-detail/1288-Macon-St_Aurora_CO_80010_M13367-62087\" rel=\"noopener\" target=\"_self\"><picture><source srcset=\"https://ap.rdcpix.com/908cd056a47ed5c2d0537c84d058c265l-m47029982od-w480_h360.webp\" type=\"image/webp\"/><img alt=\"1288 Macon St, Aurora, CO 80010\" class=\"fade top\" data-atf=\"true\" data-fmp=\"false\" data-label=\"pc-photo\" data-src=\"https://ap.rdcpix.com/908cd056a47ed5c2d0537c84d058c265l-m47029982od-w480_h360.jpg\" itemprop=\"image\" src=\"https://ap.rdcpix.com/908cd056a47ed5c2d0537c84d058c265l-m47029982od-w480_h360.jpg\"/></picture></a><div class=\"jsx-527056098 save-wrap\"><button aria-label=\"Save Listing\" class=\"jsx-1487011142\" data-testid=\"save-button\" type=\"button\"><svg class=\"jsx-2877931502\" height=\"40\" tabindex=\"-1\" viewbox=\"0 0 40 40\" width=\"40\" xmlns=\"http://www.w3.org/2000/svg\"><path class=\"jsx-2877931502\" d=\"M20 8.3c4.9-8 18.5-5.9 18.5 5l-.1 1.9c-.8 4.6-4 9.3-8.9 14a66.6 66.6 0 0 1-8.7 7l-.7.6-.8-.5a27.6 27.6 0 0 1-2.8-1.7c-2-1.4-4-3-6-4.7-5.6-5-9-10.3-9-15.8A10 10 0 0 1 20 8.3z\" fill=\"rgba(0,0,0,0.4)\" stroke=\"#fff\" stroke-width=\"3\"></path></svg></button></div></div><div class=\"jsx-2684807014 pc-top-left\"><div class=\"jsx-2934195181 pc-mt-8\"><div class=\"jsx-91772431 label-wrap\"><span class=\"jsx-3484526439 label label-green uppercase\" data-label=\"pc-new\">New</span></div><div class=\"jsx-3917702266 pc-vt-section\"><div class=\"jsx-3917702266 pc-icon-box\"><svg fill=\"#fff\" height=\"24\" width=\"24\"><defs><path d=\"M10.997.92c5.557 0 10.077 4.521 10.077 10.077 0 5.557-4.52 10.078-10.077 10.078S.92 16.554.92 10.997C.92 5.441 5.44.92 10.997.92zm0 1.4c-4.784 0-8.677 3.893-8.677 8.677 0 4.785 3.893 8.677 8.677 8.677s8.677-3.892 8.677-8.677c0-4.784-3.893-8.677-8.677-8.677zM9.42 6.92l6.15 4.1-6.15 4.1v-8.2z\" id=\"virtual-tour\"></path></defs><use transform=\"translate(1.485 1)\" xlink:href=\"#virtual-tour\"></use></svg><span class=\"jsx-3917702266\">Virtual Tour</span></div></div></div></div><div class=\"jsx-527056098 detail-wrap has-cta fixed-wrapper\"><a href=\"/realestateandhomes-detail/1288-Macon-St_Aurora_CO_80010_M13367-62087\" rel=\"noopener\"><div class=\"jsx-527056098 photo-overlay\"><div class=\"jsx-527056098 property-description\" data-label=\"pc-description\"><div class=\"jsx-527056098 property-type\" data-label=\"pc-type\"><span class=\"jsx-527056098\">House for Sale</span></div></div><div class=\"jsx-527056098 price\" data-label=\"pc-price-wrapper\"><span class=\"jsx-527056098\" data-label=\"pc-price\">$299,000</span></div></div></a><div class=\"jsx-527056098 summary-wrap\"><div class=\"jsx-527056098 property-wrap\"><a href=\"/realestateandhomes-detail/1288-Macon-St_Aurora_CO_80010_M13367-62087\" rel=\"noopener\"><div class=\"jsx-527056098 prop-meta\"><div class=\"jsx-2256820618 meta-section srp_listMeta\"><ul class=\"jsx-2256820618 property-meta list-unstyled\"><li class=\"jsx-2256820618 prop-meta srp_list\" data-label=\"pc-meta-beds\"><span class=\"jsx-2256820618 meta-value\" data-label=\"meta-value\">3</span><span class=\"jsx-2256820618 meta-label\" data-label=\"meta-label\">bed</span></li><li class=\"jsx-2256820618 prop-meta srp_list\" data-label=\"pc-meta-baths\"><span class=\"jsx-2256820618 meta-value\" data-label=\"meta-value\">2</span><span class=\"jsx-2256820618 meta-label\" data-label=\"meta-label\">bath</span></li><li class=\"jsx-2256820618 prop-meta srp_list\" data-label=\"pc-meta-sqft\"><span class=\"jsx-2256820618 meta-value\" data-label=\"meta-value\">1,218</span><span class=\"jsx-2256820618 meta-label\" data-label=\"meta-label\">sqft</span></li><li class=\"jsx-2256820618 prop-meta srp_list\" data-label=\"pc-meta-sqftlot\"><span class=\"jsx-2256820618 meta-value\" data-label=\"meta-value\">6,621</span><span class=\"jsx-2256820618 meta-label\" data-label=\"meta-label\">sqft lot</span></li></ul></div></div><div class=\"jsx-527056098 address ellipsis\" data-label=\"pc-address\">1288 Macon St, <div class=\"jsx-527056098 address-second ellipsis\" data-label=\"pc-address-second\">Aurora, CO 80010</div></div></a></div></div><div class=\"jsx-527056098 cta-wrap\"><button aria-label=\"Email Agent\" class=\"base__StyledButton-aq1664-1 jxgRVG\" data-testid=\"cta-button\" data-toggle=\"modal\" type=\"button\">Email Agent</button></div></div></div></div></li>"
      ]
     },
     "execution_count": 41,
     "metadata": {},
     "output_type": "execute_result"
    }
   ],
   "source": [
    "prop_card = test.find_all(attrs={'class':'jsx-3446352583 component_property-card'})[1]\n",
    "prop_card"
   ]
  },
  {
   "cell_type": "code",
   "execution_count": 46,
   "metadata": {},
   "outputs": [
    {
     "data": {
      "text/plain": [
       "<div class=\"jsx-3446352583\" id=\"property_1336762087\"><div class=\"jsx-4044968377 pre-card-wrap\"><div class=\"jsx-4044968377 broker-info\"><div class=\"jsx-4044968377 ellipsis\"><span class=\"jsx-4044968377\">Brokered by </span><span class=\"jsx-4044968377\" data-label=\"pc-brokered\">Mb Lunnon Rlty Corp</span></div></div></div><div class=\"jsx-527056098 card-box type-srp-result\" data-id=\"1336762087\" data-label=\"property-card\" data-testid=\"property-card\"><div class=\"jsx-527056098 photo-wrap\" id=\"1336762087\"><a href=\"/realestateandhomes-detail/1288-Macon-St_Aurora_CO_80010_M13367-62087\" rel=\"noopener\" target=\"_self\"><picture><source srcset=\"https://ap.rdcpix.com/908cd056a47ed5c2d0537c84d058c265l-m47029982od-w480_h360.webp\" type=\"image/webp\"/><img alt=\"1288 Macon St, Aurora, CO 80010\" class=\"fade top\" data-atf=\"true\" data-fmp=\"false\" data-label=\"pc-photo\" data-src=\"https://ap.rdcpix.com/908cd056a47ed5c2d0537c84d058c265l-m47029982od-w480_h360.jpg\" itemprop=\"image\" src=\"https://ap.rdcpix.com/908cd056a47ed5c2d0537c84d058c265l-m47029982od-w480_h360.jpg\"/></picture></a><div class=\"jsx-527056098 save-wrap\"><button aria-label=\"Save Listing\" class=\"jsx-1487011142\" data-testid=\"save-button\" type=\"button\"><svg class=\"jsx-2877931502\" height=\"40\" tabindex=\"-1\" viewbox=\"0 0 40 40\" width=\"40\" xmlns=\"http://www.w3.org/2000/svg\"><path class=\"jsx-2877931502\" d=\"M20 8.3c4.9-8 18.5-5.9 18.5 5l-.1 1.9c-.8 4.6-4 9.3-8.9 14a66.6 66.6 0 0 1-8.7 7l-.7.6-.8-.5a27.6 27.6 0 0 1-2.8-1.7c-2-1.4-4-3-6-4.7-5.6-5-9-10.3-9-15.8A10 10 0 0 1 20 8.3z\" fill=\"rgba(0,0,0,0.4)\" stroke=\"#fff\" stroke-width=\"3\"></path></svg></button></div></div><div class=\"jsx-2684807014 pc-top-left\"><div class=\"jsx-2934195181 pc-mt-8\"><div class=\"jsx-91772431 label-wrap\"><span class=\"jsx-3484526439 label label-green uppercase\" data-label=\"pc-new\">New</span></div><div class=\"jsx-3917702266 pc-vt-section\"><div class=\"jsx-3917702266 pc-icon-box\"><svg fill=\"#fff\" height=\"24\" width=\"24\"><defs><path d=\"M10.997.92c5.557 0 10.077 4.521 10.077 10.077 0 5.557-4.52 10.078-10.077 10.078S.92 16.554.92 10.997C.92 5.441 5.44.92 10.997.92zm0 1.4c-4.784 0-8.677 3.893-8.677 8.677 0 4.785 3.893 8.677 8.677 8.677s8.677-3.892 8.677-8.677c0-4.784-3.893-8.677-8.677-8.677zM9.42 6.92l6.15 4.1-6.15 4.1v-8.2z\" id=\"virtual-tour\"></path></defs><use transform=\"translate(1.485 1)\" xlink:href=\"#virtual-tour\"></use></svg><span class=\"jsx-3917702266\">Virtual Tour</span></div></div></div></div><div class=\"jsx-527056098 detail-wrap has-cta fixed-wrapper\"><a href=\"/realestateandhomes-detail/1288-Macon-St_Aurora_CO_80010_M13367-62087\" rel=\"noopener\"><div class=\"jsx-527056098 photo-overlay\"><div class=\"jsx-527056098 property-description\" data-label=\"pc-description\"><div class=\"jsx-527056098 property-type\" data-label=\"pc-type\"><span class=\"jsx-527056098\">House for Sale</span></div></div><div class=\"jsx-527056098 price\" data-label=\"pc-price-wrapper\"><span class=\"jsx-527056098\" data-label=\"pc-price\">$299,000</span></div></div></a><div class=\"jsx-527056098 summary-wrap\"><div class=\"jsx-527056098 property-wrap\"><a href=\"/realestateandhomes-detail/1288-Macon-St_Aurora_CO_80010_M13367-62087\" rel=\"noopener\"><div class=\"jsx-527056098 prop-meta\"><div class=\"jsx-2256820618 meta-section srp_listMeta\"><ul class=\"jsx-2256820618 property-meta list-unstyled\"><li class=\"jsx-2256820618 prop-meta srp_list\" data-label=\"pc-meta-beds\"><span class=\"jsx-2256820618 meta-value\" data-label=\"meta-value\">3</span><span class=\"jsx-2256820618 meta-label\" data-label=\"meta-label\">bed</span></li><li class=\"jsx-2256820618 prop-meta srp_list\" data-label=\"pc-meta-baths\"><span class=\"jsx-2256820618 meta-value\" data-label=\"meta-value\">2</span><span class=\"jsx-2256820618 meta-label\" data-label=\"meta-label\">bath</span></li><li class=\"jsx-2256820618 prop-meta srp_list\" data-label=\"pc-meta-sqft\"><span class=\"jsx-2256820618 meta-value\" data-label=\"meta-value\">1,218</span><span class=\"jsx-2256820618 meta-label\" data-label=\"meta-label\">sqft</span></li><li class=\"jsx-2256820618 prop-meta srp_list\" data-label=\"pc-meta-sqftlot\"><span class=\"jsx-2256820618 meta-value\" data-label=\"meta-value\">6,621</span><span class=\"jsx-2256820618 meta-label\" data-label=\"meta-label\">sqft lot</span></li></ul></div></div><div class=\"jsx-527056098 address ellipsis\" data-label=\"pc-address\">1288 Macon St, <div class=\"jsx-527056098 address-second ellipsis\" data-label=\"pc-address-second\">Aurora, CO 80010</div></div></a></div></div><div class=\"jsx-527056098 cta-wrap\"><button aria-label=\"Email Agent\" class=\"base__StyledButton-aq1664-1 jxgRVG\" data-testid=\"cta-button\" data-toggle=\"modal\" type=\"button\">Email Agent</button></div></div></div></div>"
      ]
     },
     "execution_count": 46,
     "metadata": {},
     "output_type": "execute_result"
    }
   ],
   "source": [
    "prop_card.div"
   ]
  },
  {
   "cell_type": "code",
   "execution_count": null,
   "metadata": {},
   "outputs": [],
   "source": []
  }
 ],
 "metadata": {
  "kernelspec": {
   "display_name": "Python 3",
   "language": "python",
   "name": "python3"
  },
  "language_info": {
   "codemirror_mode": {
    "name": "ipython",
    "version": 3
   },
   "file_extension": ".py",
   "mimetype": "text/x-python",
   "name": "python",
   "nbconvert_exporter": "python",
   "pygments_lexer": "ipython3",
   "version": "3.7.7"
  }
 },
 "nbformat": 4,
 "nbformat_minor": 4
}
