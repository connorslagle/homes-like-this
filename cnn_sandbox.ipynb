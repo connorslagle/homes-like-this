{
 "cells": [
  {
   "cell_type": "markdown",
   "metadata": {},
   "source": [
    "# Looking at new architecture for cnn, trying Xception"
   ]
  },
  {
   "cell_type": "markdown",
   "metadata": {},
   "source": [
    "## Jan 2021"
   ]
  },
  {
   "cell_type": "code",
   "execution_count": 1,
   "metadata": {},
   "outputs": [],
   "source": [
    "# conventional import\n",
    "import numpy as np\n",
    "import pickle\n",
    "from datetime import datetime\n",
    "import matplotlib.pyplot as plt\n",
    "plt.style.use('ggplot')\n",
    "plt.rcParams.update({'font.size': 20})\n",
    "import pdb\n",
    "import PIL\n",
    "from PIL import Image\n",
    "\n",
    "# tf imports\n",
    "import tensorflow as tf\n",
    "from tensorflow import keras\n",
    "from tensorflow.keras import layers\n",
    "from tensorflow.keras.callbacks import TensorBoard\n",
    "from tensorflow.keras import backend as K\n",
    "from tensorflow.keras.preprocessing.image import ImageDataGenerator\n",
    "from tensorflow.keras.constraints import max_norm\n",
    "\n",
    "# sk imports\n",
    "from sklearn.cluster import KMeans\n",
    "from sklearn.metrics import silhouette_samples, silhouette_score\n",
    "from sklearn.metrics.pairwise import cosine_distances\n",
    "\n",
    "# from py files\n",
    "from src.cnn_new import Autoencoder\n"
   ]
  },
  {
   "cell_type": "code",
   "execution_count": 2,
   "metadata": {},
   "outputs": [],
   "source": [
    "class XceptionAE(Autoencoder):\n",
    "    def __init__(self, gray_imgs=True):\n",
    "        super().__init__(gray_imgs=gray_imgs)\n",
    "        self._clear_variables()\n",
    "\n",
    "    def build_autoencoder(self, init_num_filters, num_encode_layers, enc_do=0.5, dec_do=0.5, max_norm_value=2, kernel_size=(3,3)):\n",
    "        '''\n",
    "        Functional API build of model\n",
    "        input shape = (128,128,x) where x=1,3 1=greyscale\n",
    "        num encode/decode layers = 5\n",
    "\n",
    "        128 init layers --> 5 encoding layers for 128 feats\n",
    "\n",
    "        '''\n",
    "        self.init_num_filters = init_num_filters\n",
    "        self.num_encode_layers = num_encode_layers\n",
    "        self.kernel_size = kernel_size\n",
    "\n",
    "        if self.gray_imgs:\n",
    "            inputs = keras.Input(shape=(128,128,1))\n",
    "            out_filter = 1\n",
    "        else:\n",
    "            inputs = keras.Input(shape=(128,128,3))\n",
    "            out_filter = 3\n",
    "            \n",
    "        layer_list = []\n",
    "        for encode_layer in range(num_encode_layers)[::-1]:\n",
    "            if encode_layer == max(range(num_encode_layers)):\n",
    "                layer_list.append(\n",
    "                    layers.SeparableConv2D(\n",
    "                        filters=(init_num_filters // (2**encode_layer)),\n",
    "                        kernel_size=kernel_size,\n",
    "                        padding='same'\n",
    "                    )(inputs)\n",
    "                )\n",
    "                \n",
    "                layer_list.append(\n",
    "                    layers.BatchNormalization()(layer_list[-1])\n",
    "                )\n",
    "\n",
    "                layer_list.append(\n",
    "                    layers.Activation('relu')(layer_list[-1])\n",
    "                )\n",
    "\n",
    "                layer_list.append(\n",
    "                    layers.SeparableConv2D(\n",
    "                        filters=(init_num_filters // (2**encode_layer)),\n",
    "                        kernel_size=kernel_size,\n",
    "                        padding='same'\n",
    "                    )(layer_list[-1])\n",
    "                )\n",
    "\n",
    "                layer_list.append(\n",
    "                    layers.BatchNormalization()(layer_list[-1])\n",
    "                )\n",
    "\n",
    "                layer_list.append(\n",
    "                    layers.Activation('relu')(layer_list[-1])\n",
    "                )\n",
    "\n",
    "                layer_list.append(\n",
    "                    layers.MaxPooling2D(\n",
    "                        pool_size=2,\n",
    "                        padding='same'\n",
    "                    )(layer_list[-1])\n",
    "                )\n",
    "\n",
    "            else:\n",
    "                layer_list.append(\n",
    "                    layers.SeparableConv2D(\n",
    "                        filters=(init_num_filters // (2**encode_layer)),\n",
    "                        kernel_size=kernel_size,\n",
    "                        padding='same'\n",
    "                    )(layer_list[-1])\n",
    "                )\n",
    "                \n",
    "                layer_list.append(\n",
    "                    layers.BatchNormalization()(layer_list[-1])\n",
    "                )\n",
    "\n",
    "                layer_list.append(\n",
    "                    layers.Activation('relu')(layer_list[-1])\n",
    "                )\n",
    "\n",
    "                layer_list.append(\n",
    "                    layers.SeparableConv2D(\n",
    "                        filters=(init_num_filters // (2**encode_layer)),\n",
    "                        kernel_size=kernel_size,\n",
    "                        padding='same'\n",
    "                    )(layer_list[-1])\n",
    "                )\n",
    "\n",
    "                layer_list.append(\n",
    "                    layers.BatchNormalization()(layer_list[-1])\n",
    "                )\n",
    "\n",
    "                layer_list.append(\n",
    "                    layers.Activation('relu')(layer_list[-1])\n",
    "                )\n",
    "\n",
    "                layer_list.append(\n",
    "                    layers.MaxPooling2D(\n",
    "                        pool_size=2,\n",
    "                        padding='same'\n",
    "                    )(layer_list[-1])\n",
    "                )\n",
    "\n",
    "        layer_list.append(\n",
    "            layers.Flatten()(layer_list[-1])\n",
    "        )\n",
    "\n",
    "        self.encoder = keras.Model(inputs, layer_list[-1])\n",
    "\n",
    "\n",
    "        resize_side = int(128/(2**num_encode_layers))\n",
    "        resize_layers = int(init_num_filters)\n",
    "\n",
    "        layer_list.append(\n",
    "            layers.Reshape(\n",
    "                target_shape=(resize_side,resize_side,resize_layers)\n",
    "            )(layer_list[-1])\n",
    "        )\n",
    "\n",
    "        for decode_layer in range(num_encode_layers):\n",
    "            layer_list.append(\n",
    "                layers.Conv2DTranspose(\n",
    "                    filters=(init_num_filters // (2**decode_layer)),\n",
    "                    kernel_size=kernel_size,\n",
    "                    padding='same'\n",
    "                )(layer_list[-1])\n",
    "            )\n",
    "\n",
    "            layer_list.append(\n",
    "                layers.BatchNormalization()(layer_list[-1])\n",
    "            )\n",
    "\n",
    "            layer_list.append(\n",
    "                layers.Activation('relu')(layer_list[-1])\n",
    "            )\n",
    "\n",
    "            layer_list.append(\n",
    "                layers.Conv2DTranspose(\n",
    "                    filters=(init_num_filters // (2**decode_layer)),\n",
    "                    kernel_size=kernel_size,\n",
    "                    padding='same'\n",
    "                )(layer_list[-1])\n",
    "            )\n",
    "            \n",
    "            layer_list.append(\n",
    "                layers.BatchNormalization()(layer_list[-1])\n",
    "            )\n",
    "\n",
    "            layer_list.append(\n",
    "                layers.Activation('relu')(layer_list[-1])\n",
    "            )\n",
    "\n",
    "            layer_list.append(\n",
    "                layers.UpSampling2D(\n",
    "                    size=(2,2)\n",
    "                )(layer_list[-1])\n",
    "            )\n",
    "\n",
    "\n",
    "        layer_list.append(\n",
    "            layers.Conv2DTranspose(\n",
    "                    filters=out_filter,\n",
    "                    kernel_size=kernel_size,\n",
    "                    padding='same',\n",
    "                    activation='sigmoid'\n",
    "            )(layer_list[-1])\n",
    "        )\n",
    "\n",
    "        self.autoencoder = keras.Model(inputs, layer_list[-1])\n",
    "        self.autoencoder.compile(\n",
    "            optimizer='adam',\n",
    "            loss='mean_squared_error'\n",
    "        )"
   ]
  },
  {
   "cell_type": "code",
   "execution_count": 9,
   "metadata": {},
   "outputs": [],
   "source": [
    "target_size=128\n",
    "color_mode=\"rgb\"\n",
    "test_dir='data/proc_images/from_sandbox/{}/{}/test'.format(color_mode, target_size)\n",
    "validation_dir='data/proc_images/from_sandbox/{}/{}/validation'.format(color_mode, target_size)"
   ]
  },
  {
   "cell_type": "code",
   "execution_count": 15,
   "metadata": {},
   "outputs": [
    {
     "name": "stdout",
     "output_type": "stream",
     "text": [
      "Found 7780 images belonging to 1 classes.\n"
     ]
    }
   ],
   "source": [
    "train_datagen = ImageDataGenerator(\n",
    "    rescale= 1./255,\n",
    "    rotation_range=20,\n",
    "    horizontal_flip=True,\n",
    "    width_shift_range=0.20,\n",
    "    height_shift_range=0.20\n",
    ")\n",
    "\n",
    "val_datagen = ImageDataGenerator(\n",
    "    rescale = 1./255\n",
    ")\n",
    "\n",
    "train_generator = train_datagen.flow_from_directory(\n",
    "    'data/listing_images/full/test/',\n",
    "    target_size=(target_size, target_size),\n",
    "    color_mode=color_mode,\n",
    "    class_mode='input'\n",
    ")"
   ]
  },
  {
   "cell_type": "code",
   "execution_count": 16,
   "metadata": {},
   "outputs": [
    {
     "name": "stdout",
     "output_type": "stream",
     "text": [
      "Found 1944 images belonging to 1 classes.\n"
     ]
    }
   ],
   "source": [
    "val_generator = val_datagen.flow_from_directory(\n",
    "    'data/listing_images/full/validation/',\n",
    "    target_size=(target_size, target_size),\n",
    "    color_mode=color_mode,\n",
    "    class_mode='input'\n",
    ")"
   ]
  },
  {
   "cell_type": "code",
   "execution_count": 22,
   "metadata": {},
   "outputs": [
    {
     "name": "stdout",
     "output_type": "stream",
     "text": [
      "Model: \"model_7\"\n",
      "_________________________________________________________________\n",
      "Layer (type)                 Output Shape              Param #   \n",
      "=================================================================\n",
      "input_4 (InputLayer)         [(None, 128, 128, 3)]     0         \n",
      "_________________________________________________________________\n",
      "separable_conv2d_30 (Separab (None, 128, 128, 8)       59        \n",
      "_________________________________________________________________\n",
      "batch_normalization_v2_60 (B (None, 128, 128, 8)       32        \n",
      "_________________________________________________________________\n",
      "activation_60 (Activation)   (None, 128, 128, 8)       0         \n",
      "_________________________________________________________________\n",
      "separable_conv2d_31 (Separab (None, 128, 128, 8)       144       \n",
      "_________________________________________________________________\n",
      "batch_normalization_v2_61 (B (None, 128, 128, 8)       32        \n",
      "_________________________________________________________________\n",
      "activation_61 (Activation)   (None, 128, 128, 8)       0         \n",
      "_________________________________________________________________\n",
      "max_pooling2d_15 (MaxPooling (None, 64, 64, 8)         0         \n",
      "_________________________________________________________________\n",
      "separable_conv2d_32 (Separab (None, 64, 64, 16)        216       \n",
      "_________________________________________________________________\n",
      "batch_normalization_v2_62 (B (None, 64, 64, 16)        64        \n",
      "_________________________________________________________________\n",
      "activation_62 (Activation)   (None, 64, 64, 16)        0         \n",
      "_________________________________________________________________\n",
      "separable_conv2d_33 (Separab (None, 64, 64, 16)        416       \n",
      "_________________________________________________________________\n",
      "batch_normalization_v2_63 (B (None, 64, 64, 16)        64        \n",
      "_________________________________________________________________\n",
      "activation_63 (Activation)   (None, 64, 64, 16)        0         \n",
      "_________________________________________________________________\n",
      "max_pooling2d_16 (MaxPooling (None, 32, 32, 16)        0         \n",
      "_________________________________________________________________\n",
      "separable_conv2d_34 (Separab (None, 32, 32, 32)        688       \n",
      "_________________________________________________________________\n",
      "batch_normalization_v2_64 (B (None, 32, 32, 32)        128       \n",
      "_________________________________________________________________\n",
      "activation_64 (Activation)   (None, 32, 32, 32)        0         \n",
      "_________________________________________________________________\n",
      "separable_conv2d_35 (Separab (None, 32, 32, 32)        1344      \n",
      "_________________________________________________________________\n",
      "batch_normalization_v2_65 (B (None, 32, 32, 32)        128       \n",
      "_________________________________________________________________\n",
      "activation_65 (Activation)   (None, 32, 32, 32)        0         \n",
      "_________________________________________________________________\n",
      "max_pooling2d_17 (MaxPooling (None, 16, 16, 32)        0         \n",
      "_________________________________________________________________\n",
      "separable_conv2d_36 (Separab (None, 16, 16, 64)        2400      \n",
      "_________________________________________________________________\n",
      "batch_normalization_v2_66 (B (None, 16, 16, 64)        256       \n",
      "_________________________________________________________________\n",
      "activation_66 (Activation)   (None, 16, 16, 64)        0         \n",
      "_________________________________________________________________\n",
      "separable_conv2d_37 (Separab (None, 16, 16, 64)        4736      \n",
      "_________________________________________________________________\n",
      "batch_normalization_v2_67 (B (None, 16, 16, 64)        256       \n",
      "_________________________________________________________________\n",
      "activation_67 (Activation)   (None, 16, 16, 64)        0         \n",
      "_________________________________________________________________\n",
      "max_pooling2d_18 (MaxPooling (None, 8, 8, 64)          0         \n",
      "_________________________________________________________________\n",
      "separable_conv2d_38 (Separab (None, 8, 8, 128)         8896      \n",
      "_________________________________________________________________\n",
      "batch_normalization_v2_68 (B (None, 8, 8, 128)         512       \n",
      "_________________________________________________________________\n",
      "activation_68 (Activation)   (None, 8, 8, 128)         0         \n",
      "_________________________________________________________________\n",
      "separable_conv2d_39 (Separab (None, 8, 8, 128)         17664     \n",
      "_________________________________________________________________\n",
      "batch_normalization_v2_69 (B (None, 8, 8, 128)         512       \n",
      "_________________________________________________________________\n",
      "activation_69 (Activation)   (None, 8, 8, 128)         0         \n",
      "_________________________________________________________________\n",
      "max_pooling2d_19 (MaxPooling (None, 4, 4, 128)         0         \n",
      "_________________________________________________________________\n",
      "flatten_3 (Flatten)          (None, 2048)              0         \n",
      "_________________________________________________________________\n",
      "reshape_3 (Reshape)          (None, 4, 4, 128)         0         \n",
      "_________________________________________________________________\n",
      "conv2d_transpose_33 (Conv2DT (None, 4, 4, 128)         147584    \n",
      "_________________________________________________________________\n",
      "batch_normalization_v2_70 (B (None, 4, 4, 128)         512       \n",
      "_________________________________________________________________\n",
      "activation_70 (Activation)   (None, 4, 4, 128)         0         \n",
      "_________________________________________________________________\n",
      "conv2d_transpose_34 (Conv2DT (None, 4, 4, 128)         147584    \n",
      "_________________________________________________________________\n",
      "batch_normalization_v2_71 (B (None, 4, 4, 128)         512       \n",
      "_________________________________________________________________\n",
      "activation_71 (Activation)   (None, 4, 4, 128)         0         \n",
      "_________________________________________________________________\n",
      "up_sampling2d_15 (UpSampling (None, 8, 8, 128)         0         \n",
      "_________________________________________________________________\n",
      "conv2d_transpose_35 (Conv2DT (None, 8, 8, 64)          73792     \n",
      "_________________________________________________________________\n",
      "batch_normalization_v2_72 (B (None, 8, 8, 64)          256       \n",
      "_________________________________________________________________\n",
      "activation_72 (Activation)   (None, 8, 8, 64)          0         \n",
      "_________________________________________________________________\n",
      "conv2d_transpose_36 (Conv2DT (None, 8, 8, 64)          36928     \n",
      "_________________________________________________________________\n",
      "batch_normalization_v2_73 (B (None, 8, 8, 64)          256       \n",
      "_________________________________________________________________\n",
      "activation_73 (Activation)   (None, 8, 8, 64)          0         \n",
      "_________________________________________________________________\n",
      "up_sampling2d_16 (UpSampling (None, 16, 16, 64)        0         \n",
      "_________________________________________________________________\n",
      "conv2d_transpose_37 (Conv2DT (None, 16, 16, 32)        18464     \n",
      "_________________________________________________________________\n",
      "batch_normalization_v2_74 (B (None, 16, 16, 32)        128       \n",
      "_________________________________________________________________\n",
      "activation_74 (Activation)   (None, 16, 16, 32)        0         \n",
      "_________________________________________________________________\n",
      "conv2d_transpose_38 (Conv2DT (None, 16, 16, 32)        9248      \n",
      "_________________________________________________________________\n",
      "batch_normalization_v2_75 (B (None, 16, 16, 32)        128       \n",
      "_________________________________________________________________\n",
      "activation_75 (Activation)   (None, 16, 16, 32)        0         \n",
      "_________________________________________________________________\n",
      "up_sampling2d_17 (UpSampling (None, 32, 32, 32)        0         \n",
      "_________________________________________________________________\n",
      "conv2d_transpose_39 (Conv2DT (None, 32, 32, 16)        4624      \n",
      "_________________________________________________________________\n",
      "batch_normalization_v2_76 (B (None, 32, 32, 16)        64        \n",
      "_________________________________________________________________\n",
      "activation_76 (Activation)   (None, 32, 32, 16)        0         \n",
      "_________________________________________________________________\n",
      "conv2d_transpose_40 (Conv2DT (None, 32, 32, 16)        2320      \n",
      "_________________________________________________________________\n",
      "batch_normalization_v2_77 (B (None, 32, 32, 16)        64        \n",
      "_________________________________________________________________\n",
      "activation_77 (Activation)   (None, 32, 32, 16)        0         \n",
      "_________________________________________________________________\n",
      "up_sampling2d_18 (UpSampling (None, 64, 64, 16)        0         \n",
      "_________________________________________________________________\n",
      "conv2d_transpose_41 (Conv2DT (None, 64, 64, 8)         1160      \n",
      "_________________________________________________________________\n",
      "batch_normalization_v2_78 (B (None, 64, 64, 8)         32        \n",
      "_________________________________________________________________\n",
      "activation_78 (Activation)   (None, 64, 64, 8)         0         \n",
      "_________________________________________________________________\n",
      "conv2d_transpose_42 (Conv2DT (None, 64, 64, 8)         584       \n",
      "_________________________________________________________________\n",
      "batch_normalization_v2_79 (B (None, 64, 64, 8)         32        \n",
      "_________________________________________________________________\n",
      "activation_79 (Activation)   (None, 64, 64, 8)         0         \n",
      "_________________________________________________________________\n",
      "up_sampling2d_19 (UpSampling (None, 128, 128, 8)       0         \n",
      "_________________________________________________________________\n",
      "conv2d_transpose_43 (Conv2DT (None, 128, 128, 3)       219       \n",
      "=================================================================\n",
      "Total params: 483,038\n",
      "Trainable params: 481,054\n",
      "Non-trainable params: 1,984\n",
      "_________________________________________________________________\n"
     ]
    }
   ],
   "source": [
    "model_builder = XceptionAE(gray_imgs=False)\n",
    "\n",
    "init_filters = 128\n",
    "encode_layers = 5\n",
    "\n",
    "model_builder.build_autoencoder(init_filters, encode_layers)\n",
    "model = model_builder.autoencoder\n",
    "model.summary()"
   ]
  },
  {
   "cell_type": "code",
   "execution_count": 26,
   "metadata": {},
   "outputs": [],
   "source": [
    "my_earlystopping_cb = tf.keras.callbacks.EarlyStopping(\n",
    "    monitor='val_loss',\n",
    "    min_delta=0.001,\n",
    "    patience=10,\n",
    "    restore_best_weights=True\n",
    ")\n",
    "\n",
    "ckpoint_dir = 'data/model_ckpoints/'\n",
    "ckpoint_name = 'Xception_{}_{}'.format(init_filters, encode_layers)\n",
    "\n",
    "my_checkpoints_cb = tf.keras.callbacks.ModelCheckpoint(\n",
    "    filepath=ckpoint_dir + ckpoint_name + '{epoch}-{val_loss}.hdf5',\n",
    "    monitor='val_loss',\n",
    "    save_best_only=True\n",
    ")"
   ]
  },
  {
   "cell_type": "code",
   "execution_count": 28,
   "metadata": {},
   "outputs": [
    {
     "name": "stdout",
     "output_type": "stream",
     "text": [
      "Epoch 1/50\n",
      "244/244 [==============================] - 216s 886ms/step - loss: 0.0189 - val_loss: 0.0243\n",
      "Epoch 2/50\n",
      "244/244 [==============================] - 221s 906ms/step - loss: 0.0167 - val_loss: 0.0234\n",
      "Epoch 3/50\n",
      "244/244 [==============================] - 219s 899ms/step - loss: 0.0156 - val_loss: 0.0245\n",
      "Epoch 4/50\n",
      "244/244 [==============================] - 222s 909ms/step - loss: 0.0148 - val_loss: 0.0219\n",
      "Epoch 5/50\n",
      "244/244 [==============================] - 221s 906ms/step - loss: 0.0142 - val_loss: 0.0210\n",
      "Epoch 6/50\n",
      "244/244 [==============================] - 219s 899ms/step - loss: 0.0137 - val_loss: 0.0212\n",
      "Epoch 7/50\n",
      "244/244 [==============================] - 221s 906ms/step - loss: 0.0133 - val_loss: 0.0206\n",
      "Epoch 8/50\n",
      "244/244 [==============================] - 222s 912ms/step - loss: 0.0130 - val_loss: 0.0201\n",
      "Epoch 9/50\n",
      "244/244 [==============================] - 221s 904ms/step - loss: 0.0127 - val_loss: 0.0184\n",
      "Epoch 10/50\n",
      "244/244 [==============================] - 221s 905ms/step - loss: 0.0125 - val_loss: 0.0184\n",
      "Epoch 11/50\n",
      "244/244 [==============================] - 222s 908ms/step - loss: 0.0121 - val_loss: 0.0194\n",
      "Epoch 12/50\n",
      "244/244 [==============================] - 222s 909ms/step - loss: 0.0120 - val_loss: 0.0180\n",
      "Epoch 13/50\n",
      "244/244 [==============================] - 220s 900ms/step - loss: 0.0118 - val_loss: 0.0177\n",
      "Epoch 14/50\n",
      "244/244 [==============================] - 219s 898ms/step - loss: 0.0117 - val_loss: 0.0179\n",
      "Epoch 15/50\n",
      "244/244 [==============================] - 221s 905ms/step - loss: 0.0114 - val_loss: 0.0163\n",
      "Epoch 16/50\n",
      "244/244 [==============================] - 220s 901ms/step - loss: 0.0113 - val_loss: 0.0163\n",
      "Epoch 17/50\n",
      "244/244 [==============================] - 220s 903ms/step - loss: 0.0112 - val_loss: 0.0157\n",
      "Epoch 18/50\n",
      "244/244 [==============================] - 223s 914ms/step - loss: 0.0111 - val_loss: 0.0156\n",
      "Epoch 19/50\n",
      "244/244 [==============================] - 221s 906ms/step - loss: 0.0109 - val_loss: 0.0171\n",
      "Epoch 20/50\n",
      "244/244 [==============================] - 222s 908ms/step - loss: 0.0108 - val_loss: 0.0154\n",
      "Epoch 21/50\n",
      "244/244 [==============================] - 222s 908ms/step - loss: 0.0107 - val_loss: 0.0152\n",
      "Epoch 22/50\n",
      "244/244 [==============================] - 222s 910ms/step - loss: 0.0105 - val_loss: 0.0157\n",
      "Epoch 23/50\n",
      "244/244 [==============================] - 222s 910ms/step - loss: 0.0105 - val_loss: 0.0152\n",
      "Epoch 24/50\n",
      "244/244 [==============================] - 223s 912ms/step - loss: 0.0105 - val_loss: 0.0160\n",
      "Epoch 25/50\n",
      "244/244 [==============================] - 222s 911ms/step - loss: 0.0104 - val_loss: 0.0157\n",
      "Epoch 26/50\n",
      "244/244 [==============================] - 220s 903ms/step - loss: 0.0102 - val_loss: 0.0152\n",
      "Epoch 27/50\n",
      "244/244 [==============================] - 221s 904ms/step - loss: 0.0103 - val_loss: 0.0155\n",
      "Epoch 28/50\n",
      "244/244 [==============================] - 222s 910ms/step - loss: 0.0101 - val_loss: 0.0164\n",
      "Epoch 29/50\n",
      "244/244 [==============================] - 224s 920ms/step - loss: 0.0101 - val_loss: 0.0153\n",
      "Epoch 30/50\n",
      "244/244 [==============================] - 221s 906ms/step - loss: 0.0100 - val_loss: 0.0154\n",
      "Epoch 31/50\n",
      "244/244 [==============================] - 221s 906ms/step - loss: 0.0100 - val_loss: 0.0147\n"
     ]
    }
   ],
   "source": [
    "history = model.fit(\n",
    "    x = train_generator,\n",
    "    epochs = 50,\n",
    "    callbacks = [my_earlystopping_cb, my_checkpoints_cb],\n",
    "    steps_per_epoch=(7780 // 32) + 1,\n",
    "    validation_data=val_generator,\n",
    "    validation_steps= (1944 // 32) +1,\n",
    "    use_multiprocessing=True\n",
    ")"
   ]
  },
  {
   "cell_type": "code",
   "execution_count": 29,
   "metadata": {},
   "outputs": [],
   "source": [
    "history_2 = history"
   ]
  },
  {
   "cell_type": "code",
   "execution_count": 31,
   "metadata": {},
   "outputs": [
    {
     "data": {
      "text/plain": [
       "11"
      ]
     },
     "execution_count": 31,
     "metadata": {},
     "output_type": "execute_result"
    }
   ],
   "source": [
    "len(history_1.history['val_loss'])"
   ]
  },
  {
   "cell_type": "code",
   "execution_count": 33,
   "metadata": {},
   "outputs": [
    {
     "data": {
      "text/plain": [
       "list"
      ]
     },
     "execution_count": 33,
     "metadata": {},
     "output_type": "execute_result"
    }
   ],
   "source": [
    "type(history_2.history['val_loss'])"
   ]
  },
  {
   "cell_type": "code",
   "execution_count": 34,
   "metadata": {},
   "outputs": [],
   "source": [
    "history_1.history['val_loss'].extend(history_2.history['val_loss'])"
   ]
  },
  {
   "cell_type": "code",
   "execution_count": 39,
   "metadata": {},
   "outputs": [],
   "source": [
    "val_loss = history_1.history['val_loss']"
   ]
  },
  {
   "cell_type": "code",
   "execution_count": 30,
   "metadata": {},
   "outputs": [],
   "source": [
    "import matplotlib.pyplot as plt"
   ]
  },
  {
   "cell_type": "code",
   "execution_count": 41,
   "metadata": {},
   "outputs": [
    {
     "data": {
      "text/plain": [
       "42"
      ]
     },
     "execution_count": 41,
     "metadata": {},
     "output_type": "execute_result"
    }
   ],
   "source": [
    "len(val_loss)"
   ]
  },
  {
   "cell_type": "code",
   "execution_count": 46,
   "metadata": {},
   "outputs": [
    {
     "data": {
      "text/plain": [
       "[<matplotlib.lines.Line2D at 0x7f59a25f4a20>]"
      ]
     },
     "execution_count": 46,
     "metadata": {},
     "output_type": "execute_result"
    },
    {
     "data": {
      "image/png": "[encoded data removed]",
      "text/plain": [
       "<Figure size 432x288 with 1 Axes>"
      ]
     },
     "metadata": {
      "needs_background": "light"
     },
     "output_type": "display_data"
    }
   ],
   "source": [
    "fig, ax = plt.subplots()\n",
    "\n",
    "x_vals = np.linspace(1,len(val_loss), len(val_loss))\n",
    "ax.plot(x_vals,val_loss)"
   ]
  },
  {
   "cell_type": "code",
   "execution_count": null,
   "metadata": {},
   "outputs": [],
   "source": []
  }
 ],
 "metadata": {
  "kernelspec": {
   "display_name": "Python 3",
   "language": "python",
   "name": "python3"
  },
  "language_info": {
   "codemirror_mode": {
    "name": "ipython",
    "version": 3
   },
   "file_extension": ".py",
   "mimetype": "text/x-python",
   "name": "python",
   "nbconvert_exporter": "python",
   "pygments_lexer": "ipython3",
   "version": "3.5.2"
  }
 },
 "nbformat": 4,
 "nbformat_minor": 4
}
